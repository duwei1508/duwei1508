{
 "cells": [
  {
   "cell_type": "code",
   "execution_count": 1,
   "id": "e1ac7e70",
   "metadata": {
    "ExecuteTime": {
     "end_time": "2024-02-21T01:22:54.901069Z",
     "start_time": "2024-02-21T01:22:48.544971Z"
    },
    "code_folding": [
     0
    ]
   },
   "outputs": [
    {
     "name": "stderr",
     "output_type": "stream",
     "text": [
      "D:\\anaconda3\\lib\\site-packages\\scipy\\__init__.py:146: UserWarning: A NumPy version >=1.16.5 and <1.23.0 is required for this version of SciPy (detected version 1.26.2\n",
      "  warnings.warn(f\"A NumPy version >={np_minversion} and <{np_maxversion}\"\n"
     ]
    }
   ],
   "source": [
    "#import\n",
    "\n",
    "import numpy as np\n",
    "import h5py\n",
    "from copy import deepcopy\n",
    "import os, zipfile, shutil,gzip\n",
    "import pandas as pd\n",
    "import glob\n",
    "from scipy.stats import linregress\n",
    "import os\n",
    "from datetime import datetime\n",
    "from datetime import timedelta\n",
    "import statistics\n",
    "import matplotlib.pyplot as plt\n",
    "import seaborn as sns\n",
    "import sys\n",
    "import warnings\n",
    "import scipy\n",
    "from numpy import polyfit, poly1d\n",
    "from scipy import interpolate\n",
    "import matplotlib as mpl\n",
    "from scipy.signal import savgol_filter\n",
    "from scipy.optimize import curve_fit\n",
    "from scipy.interpolate import interp1d\n",
    "from sklearn.linear_model import LinearRegression\n",
    "import time\n",
    "from tqdm import tqdm\n",
    "import pyarrow as pa\n",
    "import pyarrow.parquet as pq\n",
    "import math\n",
    "import plotly\n",
    "from plotly import graph_objs as go\n",
    "from plotly.subplots import make_subplots\n",
    "import plotly.express as px\n",
    "import json\n",
    "from scipy.interpolate import interp1d\n",
    "from scipy.spatial.distance import euclidean\n",
    "from scipy import interpolate\n",
    "\n",
    "secret='TD.a-ZsKkoLFWpWQpFK.dejlvOF7NK0XBVM.LlD63gOWm7VaNIu.WzC3t3XtgjavrVM.PxZSkA5B3pBRC2T.baP4'\n",
    "import nest_asyncio\n",
    "nest_asyncio.apply()\n",
    "from tardis_dev import datasets\n",
    "\n",
    "if not sys.warnoptions:\n",
    "    warnings.simplefilter(\"ignore\")"
   ]
  },
  {
   "cell_type": "code",
   "execution_count": 2,
   "id": "2996ad76",
   "metadata": {
    "ExecuteTime": {
     "end_time": "2024-02-21T01:22:54.911326Z",
     "start_time": "2024-02-21T01:22:54.902247Z"
    },
    "code_folding": [
     0
    ]
   },
   "outputs": [],
   "source": [
    "def download(ex,types,begin,end,coin):\n",
    "    datasets.download(\n",
    "            exchange=ex,\n",
    "            data_types=[\n",
    "                types\n",
    "            ],\n",
    "            from_date=begin,\n",
    "            to_date=end,\n",
    "            symbols=[coin],\n",
    "            api_key=secret,\n",
    "        )"
   ]
  },
  {
   "cell_type": "code",
   "execution_count": 35,
   "id": "887f5874",
   "metadata": {
    "ExecuteTime": {
     "end_time": "2024-02-21T02:08:40.000694Z",
     "start_time": "2024-02-21T02:08:39.994793Z"
    },
    "code_folding": [
     0
    ]
   },
   "outputs": [],
   "source": [
    "def get_trade(begin, end, ex, coin):\n",
    "    dt = []\n",
    "    for file in os.listdir(f'C:/Users/杜威/Desktop/datasets'):\n",
    "        date = file[(len(ex) + 8):(len(ex) + 18)]\n",
    "        if date >= begin and date <= end:\n",
    "            df = pd.read_csv(f'C:/Users/杜威/Desktop/datasets/{ex}_trades_{date}_{coin}.csv.gz')\n",
    "            dt.append(df)\n",
    "    dt = pd.concat(dt)\n",
    "    f = lambda x: datetime.fromtimestamp(x / 1000000)\n",
    "    dt['time'] = dt['timestamp'].map(f)\n",
    "    return dt"
   ]
  },
  {
   "cell_type": "code",
   "execution_count": 4,
   "id": "42c15bf3",
   "metadata": {
    "ExecuteTime": {
     "end_time": "2024-02-21T01:22:54.925458Z",
     "start_time": "2024-02-21T01:22:54.918555Z"
    },
    "code_folding": [
     0
    ]
   },
   "outputs": [],
   "source": [
    "def mean_price(df, group):\n",
    "    df['time_group'] = df['time'].dt.floor(group)\n",
    "    df['value'] = df['amount'] * df['price']\n",
    "    dt = df[['time_group', 'side', 'amount', 'value']].groupby(['time_group', 'side'], as_index = False).sum()\n",
    "    dt['price'] = dt['value'] / dt['amount']\n",
    "    return dt"
   ]
  },
  {
   "cell_type": "code",
   "execution_count": 47,
   "id": "df9ae3c2",
   "metadata": {
    "ExecuteTime": {
     "end_time": "2024-02-21T02:19:22.600558Z",
     "start_time": "2024-02-21T02:19:22.594802Z"
    },
    "code_folding": [
     0
    ]
   },
   "outputs": [],
   "source": [
    "def plot_price_value(df, group, coin):\n",
    "    dt = mean_price(df, group)\n",
    "    df_b = dt[dt['side'] == 'buy']\n",
    "    df_s = dt[dt['side'] == 'sell']\n",
    "    fig = plt.figure(figsize = (15, 15))\n",
    "    sub_fig1 = fig.add_subplot(311)\n",
    "    sub_fig1.grid(True)\n",
    "    plt.plot(df_b['time_group'], df_b['price'], label = 'buy price')\n",
    "    plt.plot(df_s['time_group'], df_s['price'], label = 'sell price')\n",
    "    plt.title('Price')\n",
    "    plt.legend()\n",
    "\n",
    "    sub_fig2 = fig.add_subplot(312)\n",
    "    sub_fig2.grid(True)\n",
    "    plt.plot(df_b['time_group'], df_b['value'], label = 'buy value')\n",
    "    plt.plot(df_s['time_group'], df_s['value'], label = 'sell value')\n",
    "    plt.title('Dallor Value')\n",
    "    plt.legend()\n",
    "    \n",
    "    sub_fig3 = fig.add_subplot(313)\n",
    "    sub_fig3.grid(True)\n",
    "    dt1 = pd.merge(df_b, df_s[['time_group', 'price', 'value']], on = 'time_group')\n",
    "    dt1['rate'] = dt1['price_x'] / dt1['price_y'] - 1\n",
    "    plt.plot(dt1['time_group'], dt1['rate'], label = 'profit rate')\n",
    "    plt.title('Rate')\n",
    "    plt.legend()\n",
    "    dt1.rename(columns = \n",
    "               {'price_x': 'price_buy', 'price_y': 'price_sell', 'value_x': 'value_buy', 'value_y': 'value_sell'}, inplace = True)\n",
    "    dt1 = dt1[['time_group', 'price_buy', 'price_sell', 'value_buy', 'value_sell', 'rate']]\n",
    "    dt1.to_csv(f'C:/Users/杜威/Desktop/tardis/backtesting/{coin}.csv')\n",
    "    plt.savefig(f'C:/Users/杜威/Desktop/tardis/backtesting/{coin}.jpg')\n",
    "    return dt1"
   ]
  },
  {
   "cell_type": "code",
   "execution_count": 70,
   "id": "fefd9280",
   "metadata": {
    "ExecuteTime": {
     "end_time": "2024-02-21T02:37:43.692704Z",
     "start_time": "2024-02-21T02:37:43.675001Z"
    },
    "code_folding": [
     0
    ]
   },
   "outputs": [],
   "source": [
    "def get_self_df(begin, end, group):\n",
    "    df = []\n",
    "    for ex in ['formal', 'test']:\n",
    "        df_ = pd.read_csv(f'C:/Users/杜威/Desktop/tardis/profit/plot/pos_fp/kraken_{ex}.csv', index_col=0)\n",
    "        df_['time'] = df_['time'].astype('datetime64[ms]')\n",
    "        df.append(df_)\n",
    "    df = pd.concat(df).sort_values('time')\n",
    "    df = df[df['time'] >= begin][df['time'] <= end]\n",
    "    df['coin'] = df['coin1'] + df['coin2']\n",
    "    df['value'] = abs(df['ch2']) * df['fp2']\n",
    "    df['amount'] = abs(df['ch2'])\n",
    "    df['profit'] = df['margin']\n",
    "    df['time_group'] = df['time'].dt.floor(group)\n",
    "    dt = df[['time_group', 'profit', 'amount', 'value', 'coin']].groupby(['time_group', 'coin'], as_index = False).sum()\n",
    "    dt['fp'] = dt['value'] / dt['amount']\n",
    "    return dt"
   ]
  },
  {
   "cell_type": "code",
   "execution_count": 58,
   "id": "e0695f7e",
   "metadata": {
    "ExecuteTime": {
     "end_time": "2024-02-21T02:32:49.274832Z",
     "start_time": "2024-02-21T02:32:49.269134Z"
    },
    "code_folding": [
     0
    ]
   },
   "outputs": [],
   "source": [
    "def compara_allself(group, coin, all_df, self_df):\n",
    "    recite = lambda x: x.replace('Z', '').replace('XETH', 'ETH').replace('XXBT', 'XBT').replace('XBT', 'BTC').replace('XXRP','XRP').replace('XLTC','LTC').replace('XXDG','XDG').lower().replace('-', '')\n",
    "    self_df = self_df[self_df['coin'] == recite(coin)]\n",
    "    \n",
    "    dt = mean_price(all_df, group)\n",
    "    df_b = dt[dt['side'] == 'buy']\n",
    "    df_s = dt[dt['side'] == 'sell']\n",
    "    dt1 = pd.merge(df_b, df_s[['time_group', 'price', 'value']], on = 'time_group')\n",
    "    dt1['rate'] = dt1['price_x'] / dt1['price_y'] - 1\n",
    "    dt1.rename(columns = \n",
    "               {'price_x': 'price_buy', 'price_y': 'price_sell', 'value_x': 'value_buy', 'value_y': 'value_sell'}, inplace = True)\n",
    "    dt1['value_all'] = dt1.apply(lambda x:min(x['value_buy'], x['value_sell']), axis = 1)\n",
    "    dt1 = dt1[['time_group', 'value_all', 'rate']]\n",
    "    \n",
    "    df = pd.merge(dt1, self_df, on = 'time_group')\n",
    "    df['value_all'] *= df['fp']\n",
    "    df['profit_all'] = df['value_all'] * df['rate']\n",
    "    df = df[['time_group', 'value_all', 'profit_all', 'profit', 'value']]\n",
    "    return df"
   ]
  },
  {
   "cell_type": "code",
   "execution_count": 44,
   "id": "4576d097",
   "metadata": {
    "ExecuteTime": {
     "end_time": "2024-02-21T02:17:46.782065Z",
     "start_time": "2024-02-21T02:17:46.766427Z"
    }
   },
   "outputs": [],
   "source": [
    "ex = 'kraken'\n",
    "coin = 'XBT-USD'\n",
    "begin = '2023-04-03'\n",
    "end = '2024-01-03'\n",
    "group = '30min'"
   ]
  },
  {
   "cell_type": "code",
   "execution_count": 71,
   "id": "50bb8916",
   "metadata": {
    "ExecuteTime": {
     "end_time": "2024-02-21T02:37:54.088194Z",
     "start_time": "2024-02-21T02:37:48.083522Z"
    }
   },
   "outputs": [],
   "source": [
    "download(ex, 'trades', begin, end, coin)\n",
    "#all_df = get_trade(begin, end, ex, coin)\n",
    "self_df = get_self_df(begin, end, group)\n",
    "df = compara_allself(group, coin, all_df, self_df)\n",
    "#dt1 = plot_price_value(dt, coin)"
   ]
  },
  {
   "cell_type": "code",
   "execution_count": null,
   "id": "97d831cc",
   "metadata": {},
   "outputs": [],
   "source": [
    "df = compara_allself(group, coin, all_df, self_df)"
   ]
  },
  {
   "cell_type": "code",
   "execution_count": 84,
   "id": "339a2fef",
   "metadata": {
    "ExecuteTime": {
     "end_time": "2024-02-21T02:44:19.319622Z",
     "start_time": "2024-02-21T02:44:19.161132Z"
    }
   },
   "outputs": [
    {
     "data": {
      "text/plain": [
       "Text(0.5, 1.0, 'XBT-USD')"
      ]
     },
     "execution_count": 84,
     "metadata": {},
     "output_type": "execute_result"
    },
    {
     "data": {
      "image/png": "[encoded data removed]",
      "text/plain": [
       "<Figure size 1080x576 with 2 Axes>"
      ]
     },
     "metadata": {
      "needs_background": "light"
     },
     "output_type": "display_data"
    }
   ],
   "source": [
    "fig, ax1 = plt.subplots(figsize = (15, 8 ))\n",
    "ax1.plot(df['time_group'], df['profit_all'].cumsum(), label = 'all')\n",
    "plt.legend()\n",
    "ax2 = ax1.twinx()  \n",
    "ax2.plot(df['time_group'], df['profit'].cumsum(), label = 'self', color = 'red')\n",
    "plt.legend(loc = 'upper right')\n",
    "plt.title(coin)"
   ]
  },
  {
   "cell_type": "code",
   "execution_count": null,
   "id": "7193ec68",
   "metadata": {},
   "outputs": [],
   "source": []
  }
 ],
 "metadata": {
  "kernelspec": {
   "display_name": "Python 3 (ipykernel)",
   "language": "python",
   "name": "python3"
  },
  "language_info": {
   "codemirror_mode": {
    "name": "ipython",
    "version": 3
   },
   "file_extension": ".py",
   "mimetype": "text/x-python",
   "name": "python",
   "nbconvert_exporter": "python",
   "pygments_lexer": "ipython3",
   "version": "3.9.7"
  }
 },
 "nbformat": 4,
 "nbformat_minor": 5
}
