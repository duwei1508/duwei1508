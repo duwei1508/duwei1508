{
 "cells": [
  {
   "cell_type": "code",
   "execution_count": 1,
   "id": "85cefa91",
   "metadata": {
    "ExecuteTime": {
     "end_time": "2024-02-28T03:01:35.237401Z",
     "start_time": "2024-02-28T03:01:29.399772Z"
    },
    "code_folding": [
     0
    ]
   },
   "outputs": [
    {
     "name": "stderr",
     "output_type": "stream",
     "text": [
      "C:\\Users\\杜威\\AppData\\Roaming\\Python\\Python39\\site-packages\\pandas\\core\\computation\\expressions.py:21: UserWarning: Pandas requires version '2.8.0' or newer of 'numexpr' (version '2.7.3' currently installed).\n",
      "  from pandas.core.computation.check import NUMEXPR_INSTALLED\n",
      "C:\\Users\\杜威\\AppData\\Roaming\\Python\\Python39\\site-packages\\pandas\\core\\arrays\\masked.py:62: UserWarning: Pandas requires version '1.3.4' or newer of 'bottleneck' (version '1.3.2' currently installed).\n",
      "  from pandas.core import (\n",
      "D:\\anaconda3\\lib\\site-packages\\scipy\\__init__.py:146: UserWarning: A NumPy version >=1.16.5 and <1.23.0 is required for this version of SciPy (detected version 1.26.2\n",
      "  warnings.warn(f\"A NumPy version >={np_minversion} and <{np_maxversion}\"\n"
     ]
    }
   ],
   "source": [
    "#import\n",
    "import numpy as np\n",
    "import os, zipfile, shutil,gzip\n",
    "import pandas as pd\n",
    "import glob\n",
    "import os\n",
    "from datetime import datetime\n",
    "from datetime import timedelta\n",
    "import statistics\n",
    "import matplotlib.pyplot as plt\n",
    "import seaborn as sns\n",
    "from tqdm import tqdm\n",
    "import sys\n",
    "import copy\n",
    "import warnings\n",
    "import scipy\n",
    "from numpy import polyfit, poly1d\n",
    "import tarfile\n",
    "import math\n",
    "import time\n",
    "from scipy import interpolate\n",
    "import matplotlib as mpl\n",
    "from scipy.signal import savgol_filter\n",
    "from scipy.optimize import curve_fit\n",
    "from sklearn.preprocessing import PolynomialFeatures\n",
    "from collections import Counter\n",
    "import collections\n",
    "import plotly.graph_objects as go\n",
    "import plotly\n",
    "import pyarrow as pa\n",
    "import pyarrow.parquet as pq\n",
    "import json\n",
    "import Hawkes as hk\n",
    "if not sys.warnoptions:\n",
    "    warnings.simplefilter(\"ignore\")"
   ]
  },
  {
   "cell_type": "markdown",
   "id": "2122b4b5",
   "metadata": {},
   "source": [
    "# 利润分析"
   ]
  },
  {
   "cell_type": "markdown",
   "id": "97822254",
   "metadata": {},
   "source": [
    "##  设置平衡仓位和时间区间并保存"
   ]
  },
  {
   "cell_type": "code",
   "execution_count": 2,
   "id": "bebad00d",
   "metadata": {
    "ExecuteTime": {
     "end_time": "2024-02-06T02:06:27.289807Z",
     "start_time": "2024-02-06T02:06:27.260181Z"
    },
    "code_folding": [
     0,
     6,
     13,
     24,
     242
    ]
   },
   "outputs": [],
   "source": [
    "def save_dic(name, dic):\n",
    "    file = open(f'C:/Users/杜威/Desktop/tardis/Tom_data/params/{name}.txt', 'w')\n",
    "    data_str = str(dic)\n",
    "    file.write(data_str)\n",
    "    file.close()\n",
    "    \n",
    "def read_dic(name):\n",
    "    file = open(f'C:/Users/杜威/Desktop/tardis/Tom_data/params/{name}.txt', 'r')\n",
    "    content = file.read()\n",
    "    dictionary = eval(content)\n",
    "    file.close()\n",
    "    return dictionary\n",
    "\n",
    "time_list = {\n",
    "    '1':['2023-04-04 00:00:00', '2023-05-15 02:55:23'],\n",
    "    '2':['2023-05-15 13:00:00', '2023-08-30 10:10:52'],\n",
    "    '3':['2023-08-30 15:00:00', '2023-10-07 23:59:59'],\n",
    "    '4':['2023-10-10 00:00:00', '2023-10-24 19:45:00'],\n",
    "    '5':['2023-10-25 00:00:00', '2023-10-31 00:00:00'],\n",
    "    '6':['2023-10-31 00:00:00', '2023-11-15 10:00:00'],\n",
    "    '7':['2023-11-14 23:00:00', '2023-12-15 12:00:00']\n",
    "}\n",
    "save_dic('time', time_list)\n",
    "\n",
    "balance_map = {\n",
    "    '1':{\n",
    "        'kraken_formal':{\n",
    "            'aud':38069,\n",
    "            'btc':18,\n",
    "            'cad':178185,\n",
    "            'chf':109190,\n",
    "            'dai':34338,\n",
    "            'dot':13155,\n",
    "            'eth':196,\n",
    "            'eur':555823,\n",
    "            'gbp':169334,\n",
    "            'matic':97425,\n",
    "            'paxg':16,\n",
    "            'sol':7022,\n",
    "            'usd':750000,\n",
    "            'usdc':149067,\n",
    "            'usdt':348652\n",
    "        },\n",
    "        'kraken_test':{\n",
    "            'aud':38069,\n",
    "            'btc':18,\n",
    "            'cad':178185,\n",
    "            'chf':109190,\n",
    "            'dai':34338,\n",
    "            'dot':13155,\n",
    "            'eth':196,\n",
    "            'eur':555823,\n",
    "            'gbp':169334,\n",
    "            'matic':97425,\n",
    "            'paxg':16,\n",
    "            'sol':7022,\n",
    "            'usd':750000,\n",
    "            'usdc':149067,\n",
    "            'usdt':348652\n",
    "        }\n",
    "    },\n",
    "    '2':{\n",
    "        'kraken_formal':{\n",
    "            'aud':20824,\n",
    "            'btc':11,\n",
    "            'cad':141123,\n",
    "            'chf':37783,\n",
    "            'dai':2947,\n",
    "            'dot':7678,\n",
    "            'eth':195,\n",
    "            'eur':311350,\n",
    "            'gbp':226798,\n",
    "            'matic':61620,\n",
    "            'paxg':2,\n",
    "            'sol':4494,\n",
    "            'usd':629776,\n",
    "            'usdc':47912,\n",
    "            'usdt':226984\n",
    "        },\n",
    "        'kraken_test':{\n",
    "            'aud':20824,\n",
    "            'btc':11,\n",
    "            'cad':141123,\n",
    "            'chf':37783,\n",
    "            'dai':2947,\n",
    "            'dot':7678,\n",
    "            'eth':195,\n",
    "            'eur':311350,\n",
    "            'gbp':226798,\n",
    "            'matic':61620,\n",
    "            'paxg':2,\n",
    "            'sol':4494,\n",
    "            'usd':629776,\n",
    "            'usdc':47912,\n",
    "            'usdt':226984\n",
    "        }\n",
    "    },\n",
    "    '3':{\n",
    "        'kraken_test':{\n",
    "            'aud':20824.18,\n",
    "            'btc':10.99,\n",
    "            'cad':141122.87,\n",
    "            'chf':37783.15,\n",
    "            'dai':1,\n",
    "            'dot':7678.18,\n",
    "            'eth':194.66,\n",
    "            'eur':311350.15,\n",
    "            'gbp':226797.59,\n",
    "            'matic':61619.55,\n",
    "            'paxg':5,\n",
    "            'sol':4493.56,\n",
    "            'usd':629776,\n",
    "            'usdc':47912,\n",
    "            'usdt':226984,\n",
    "            'xdg':763359,\n",
    "            'ltc':884,\n",
    "            'xrp':93668,\n",
    "            'ada':168602,\n",
    "            'link':4934\n",
    "        },\n",
    "        'kraken_formal':{\n",
    "            'usdt':246984,\n",
    "            'usdc':60000,\n",
    "            'usd':550000,\n",
    "            'dai':1,\n",
    "            'eur':321987,\n",
    "            'chf':87877,\n",
    "            'gbp':223618,\n",
    "            'cad':108517,\n",
    "            'aud':92720,\n",
    "            'paxg':5,\n",
    "            'btc':11,\n",
    "            'eth':175,\n",
    "            'sol':4413,\n",
    "            'dot':8652,\n",
    "            'matic':85441,\n",
    "            'xdg':916031,\n",
    "            'ltc':884,\n",
    "            'xrp':93668,\n",
    "            'ada':168602,\n",
    "            'link':4934\n",
    "        }\n",
    "    },\n",
    "    '4':{\n",
    "        'kraken_formal':{\n",
    "            'usdt':825000,\n",
    "            'usdc':160000,\n",
    "            'usd':1652000,\n",
    "            'dai':1,\n",
    "            'eur':482981,\n",
    "            'chf':131815,\n",
    "            'gbp':335427,\n",
    "            'cad':162776,\n",
    "            'aud':139080,\n",
    "            'paxg':8,\n",
    "            'btc':16,\n",
    "            'eth':262,\n",
    "            'sol':6619,\n",
    "            'dot':12979,\n",
    "            'matic':128161,\n",
    "            'xdg':1374046,\n",
    "            'ltc':1326,\n",
    "            'xrp':140502,\n",
    "            'ada':252904,\n",
    "            'link':7401\n",
    "        }\n",
    "    },\n",
    "    '5':{\n",
    "        'kraken_formal':{\n",
    "            'usdt':260000,\n",
    "            'usdc':50000,\n",
    "            'usd':1437591,\n",
    "            'dai':1,\n",
    "            'eur':497085,\n",
    "            'chf':74842,\n",
    "            'gbp':122623,\n",
    "            'cad':109552,\n",
    "            'aud':88677,\n",
    "            'paxg':5,\n",
    "            'btc':23,\n",
    "            'eth':273,\n",
    "            'sol':6383,\n",
    "            'dot':7394,\n",
    "            'matic':76840,\n",
    "            'xdg':1038576,\n",
    "            'ltc':2396,\n",
    "            'xrp':254037,\n",
    "            'ada':492438,\n",
    "            'link':4626\n",
    "        }\n",
    "    },\n",
    "    '6':{\n",
    "        'kraken_formal':{\n",
    "            'usdt':260000,\n",
    "            'usdc':50000,\n",
    "            'usd':1437591,\n",
    "            'dai':1,\n",
    "            'eur':497085,\n",
    "            'chf':112262,\n",
    "            'gbp':122623,\n",
    "            'cad':76686,\n",
    "            'aud':88677,\n",
    "            'paxg':5,\n",
    "            'btc':23,\n",
    "            'eth':273,\n",
    "            'sol':8297,\n",
    "            'dot':11091,\n",
    "            'matic':76840,\n",
    "            'xdg':1350148,\n",
    "            'ltc':2396,\n",
    "            'xrp':254037,\n",
    "            'ada':492438,\n",
    "            'link':6939\n",
    "        },\n",
    "    },\n",
    "     '7':{\n",
    "        'kraken_formal':{\n",
    "            'usdt':250000,\n",
    "            'usdc':50000,\n",
    "            'usd':1000000,\n",
    "            'dai':1,\n",
    "            'eur':374883,\n",
    "            'chf':90500,\n",
    "            'gbp':81967,\n",
    "            'cad':41082,\n",
    "            'aud':88677,\n",
    "            'paxg':5,\n",
    "            'btc':9,\n",
    "            'eth':122,\n",
    "            'sol':8772,\n",
    "            'dot':11091,\n",
    "            'matic':74860,\n",
    "            'xdg':1350148,\n",
    "            'ltc':1344,\n",
    "            'xrp':75919,\n",
    "            'ada':396825,\n",
    "            'link':9615     \n",
    "        }\n",
    "     }\n",
    "}\n",
    "save_dic('balance', balance_map)\n",
    "\n",
    "credit_map = {\n",
    "    '7':{\n",
    "        'kraken_formal':{\n",
    "            'usdt':250000,\n",
    "            'usdc':50000,\n",
    "            'usd':1000000,\n",
    "            'dai':0,\n",
    "            'eur':374883,\n",
    "            'chf':0,\n",
    "            'gbp':163934,\n",
    "            'cad':68470,\n",
    "            'aud':0,\n",
    "            'paxg':0,\n",
    "            'btc':19,\n",
    "            'eth':244,\n",
    "            'sol':8772,\n",
    "            'dot':0,\n",
    "            'matic':74860,\n",
    "            'xdg':0,\n",
    "            'ltc':0,\n",
    "            'xrp':151837,\n",
    "            'ada':264550,\n",
    "            'link':0     \n",
    "        }\n",
    "     }\n",
    "}\n",
    "save_dic('credit', credit_map)"
   ]
  },
  {
   "cell_type": "markdown",
   "id": "0e32b5e8",
   "metadata": {},
   "source": [
    "## 计算仓位，贴取fp，计算收益"
   ]
  },
  {
   "cell_type": "code",
   "execution_count": 3,
   "id": "d6fd5507",
   "metadata": {
    "ExecuteTime": {
     "end_time": "2024-02-06T02:06:27.320813Z",
     "start_time": "2024-02-06T02:06:27.290829Z"
    },
    "code_folding": [
     1,
     23,
     45,
     52,
     87,
     95,
     132
    ]
   },
   "outputs": [],
   "source": [
    "#获取不含fp的仓位变动\n",
    "def get_ledger(ex, ls):\n",
    "    df = []\n",
    "    if ls == 'all':\n",
    "        for file in os.listdir(f'C:/Users/杜威/Desktop/tardis/Tom_data/ledgers/{ex}'):\n",
    "            df0 = pd.read_csv(f'C:/Users/杜威/Desktop/tardis/Tom_data/ledgers/{ex}/{file}')\n",
    "            df.append(df0)\n",
    "    else:\n",
    "        for num in ls:\n",
    "            df0 = pd.read_csv(f'C:/Users/杜威/Desktop/tardis/Tom_data/ledgers/{ex}/ledgers{num}.csv')\n",
    "            df.append(df0)\n",
    "    df = pd.concat(df)\n",
    "    df['time'] = pd.to_datetime(df['time'])\n",
    "    df['time']=df['time']+timedelta(hours=8)#使用+8时间\n",
    "    df = df.sort_values(by='time').reset_index()\n",
    "    df['amount'] -= df['fee']\n",
    "    df = df[['time','type','asset','amount','balance']]\n",
    "    recite = lambda x: x.replace('Z', '').replace('XETH', 'ETH').replace('XXBT', 'XBT').replace('XBT', 'BTC').replace('XXRP','XRP').replace('XLTC','LTC').replace('XXDG','XDG').lower()\n",
    "    df['asset'] = df['asset'].map(recite)\n",
    "    df.loc[df['type'] == 'credit', 'amount'] *= -1\n",
    "    df.loc[df['type'] == 'credit', 'balance'] *= -1\n",
    "    return df.drop_duplicates().dropna()\n",
    "\n",
    "def get_trade(ex, ls):\n",
    "    df = []\n",
    "    if ls == 'all':\n",
    "        for file in os.listdir(f'C:/Users/杜威/Desktop/tardis/Tom_data/trade/{ex}'):\n",
    "            df0 = pd.read_csv(f'C:/Users/杜威/Desktop/tardis/Tom_data/trade/{ex}/{file}')\n",
    "            df.append(df0)\n",
    "    else:\n",
    "        for num in ls:\n",
    "            df0 = pd.read_csv(f'C:/Users/杜威/Desktop/tardis/Tom_data/trade/{ex}/trades{num}.csv')\n",
    "            df.append(df0)\n",
    "    df = pd.concat(df)\n",
    "    df = df.drop_duplicates()\n",
    "    df['time'] = pd.to_datetime(df['time'])\n",
    "    df['time']=df['time']+timedelta(hours=8)#使用+8时间\n",
    "    df = df.sort_values(by='time').reset_index()\n",
    "    df = df[['time','pair','type','price','vol','cost']]\n",
    "    recite = lambda x: x.replace('Z', '').replace('XETH', 'ETH').replace('XXBT', 'XBT').replace('XBT', 'BTC').replace('XXRP','XRP').replace('XLTC','LTC').replace('XXDG','XDG').lower()\n",
    "    df['pair'] = df['pair'].map(recite)\n",
    "    df.rename(columns={'vol': 'amount', 'cost': 'value'}, inplace=True)\n",
    "    df = df.groupby(['time','pair','type','price'], as_index = False).sum()\n",
    "    return df.drop_duplicates()\n",
    "\n",
    "def fix_num(trade):\n",
    "    tick = 0.000000000001\n",
    "    for coin in ['eur','aud','cad','gbp','chf','usd']:\n",
    "        trade.loc[trade['buy_coin'] == coin,'buy_amount'] = trade.loc[trade['buy_coin'] == coin,'buy_amount'].map(lambda x:round(x + tick,4))\n",
    "        trade.loc[trade['sell_coin'] == coin,'sell_amount'] = trade.loc[trade['sell_coin'] == coin,'sell_amount'].map(lambda x:round(x + tick,4))\n",
    "    return trade\n",
    "\n",
    "def get_begin(trade, ledger, begin):\n",
    "    trade = trade[trade['time'] >= begin].iloc[:10000,]\n",
    "    ledger = ledger[ledger['time'] >= begin]\n",
    "    trade['buy_coin'] = trade.apply(lambda row: row['pair'][-4:] if row['pair'][-4:] in ['usdt','usdc'] and row['type'] == 'sell' \n",
    "                            else row['pair'][:-4] if row['pair'][-4:] in ['usdt','usdc'] and row['type'] == 'buy' \n",
    "                            else row['pair'][:-3] if row['type'] == 'buy'\n",
    "                            else row['pair'][-3:],axis=1)\n",
    "    trade['sell_coin'] = trade.apply(lambda row: row['pair'][-4:] if row['pair'][-4:] in ['usdt','usdc'] and row['type'] == 'buy' \n",
    "                            else row['pair'][:-4] if row['pair'][-4:] in ['usdt','usdc'] and row['type'] == 'sell' \n",
    "                            else row['pair'][:-3] if row['type'] == 'sell'\n",
    "                            else row['pair'][-3:],axis=1)\n",
    "    trade['buy_amount'] = trade.apply(lambda row: row['amount'] if row['type'] == 'buy' else row['value'],axis=1)\n",
    "    trade['sell_amount'] = trade.apply(lambda row: row['amount'] if row['type'] == 'sell' else row['value'],axis=1)\n",
    "    trade = trade.groupby(['buy_coin','sell_coin'], as_index = False).first().sort_values(by = 'time')\n",
    "    trade['time_m'] = trade['time'].dt.floor('s')\n",
    "    trade = fix_num(trade)\n",
    "    pos = {}\n",
    "    for raw in trade.values:\n",
    "        coin1 = raw[0]\n",
    "        coin2 = raw[1]\n",
    "        buy_amount = raw[8]\n",
    "        sell_amount = raw[9]\n",
    "        if coin1 in pos and coin2 in pos:\n",
    "            continue\n",
    "        if coin1 not in pos:\n",
    "            pos[coin1] = ledger[(ledger['time'] == raw[10]) & (ledger['asset'] == coin1) & (ledger['amount'] == buy_amount)]['balance'].values[0] - buy_amount\n",
    "        if coin2 not in pos:\n",
    "            pos[coin2] = ledger[(ledger['time'] == raw[10]) & (ledger['asset'] == coin2) & (ledger['amount'] == -1*sell_amount)]['balance'].values[0] + sell_amount\n",
    "    if 'doge' in pos.keys():\n",
    "        pos['xdg'] = pos['doge']\n",
    "    for coin in set(ledger.asset):\n",
    "        if coin not in pos.keys():\n",
    "            pos[coin] = 0\n",
    "    return pos\n",
    "\n",
    "def merge_ledger_trade(df, dt, begin_time, end_time):\n",
    "    other = df[df['type'] != 'trade'][(df['type'] != 'credit')]\n",
    "    other.rename(columns = {'asset':'pair'}, inplace = True)\n",
    "    other = other[['time', 'type', 'pair', 'amount']]\n",
    "    dt = pd.concat([dt, other]).sort_values('time').reset_index()\n",
    "    del dt['index']\n",
    "    return dt[dt['time'] >= begin_time][dt['time'] <= end_time]\n",
    "\n",
    "def get_allpos(df,begin_pos):\n",
    "    begin = copy.deepcopy(begin_pos)\n",
    "    arr = df.to_numpy()\n",
    "    trade_records = np.empty((len(arr), 9), dtype=object)\n",
    "    for i in range(0, len(arr)):\n",
    "        side = arr[i][2]\n",
    "        price = arr[i][3]\n",
    "        ch1,ch2 = arr[i][4],arr[i][5]\n",
    "        if side in ['buy', 'sell']:\n",
    "            if arr[i][1][-4:] in ['usdt','usdc']:\n",
    "                coin1,coin2 = arr[i][1][:-4],arr[i][1][-4:]\n",
    "            else:\n",
    "                coin1,coin2 = arr[i][1][:-3],arr[i][1][-3:]\n",
    "            if side == 'buy':\n",
    "                ch2 *= -1\n",
    "            else:\n",
    "                ch1 *= -1\n",
    "            \n",
    "            begin1, begin2 = begin[coin1], begin[coin2]\n",
    "            begin[coin1] += ch1\n",
    "            begin[coin2] += ch2\n",
    "        else:\n",
    "            coin1, coin2 = arr[i][1], np.nan\n",
    "            begin1, begin2 = begin[coin1], np.nan\n",
    "            begin[coin1] += ch1\n",
    "        \n",
    "        if i == 152876:\n",
    "            print(1)\n",
    "            #begin1 = 0\n",
    "            #begin[coin1] = ch1\n",
    "        trade_record = np.array([arr[i][0], coin1, coin2, side, price, ch1, ch2, begin1, begin2])\n",
    "        trade_records[i] = trade_record\n",
    "\n",
    "    columns = ['time', 'coin1', 'coin2', 'side', 'price', 'ch1', 'ch2', 'begin1', 'begin2']\n",
    "    trade_records_df = pd.DataFrame(trade_records, columns=columns)\n",
    "    return trade_records_df\n",
    "\n",
    "def get_allinfo_nofp(ex, begin_time, end_time, name):\n",
    "    df = get_ledger(ex, 'all')\n",
    "    dt = get_trade(ex, 'all')\n",
    "    begin_pos = get_begin(dt, df, begin_time)\n",
    "    dt0 = merge_ledger_trade(df, dt, begin_time, end_time)\n",
    "    dt0 = get_allpos(dt0, begin_pos)\n",
    "    dt0.to_csv(f'C:/Users/杜威/Desktop/tardis/profit/plot/pos/{ex}/{name}.csv')\n",
    "    return dt0"
   ]
  },
  {
   "cell_type": "code",
   "execution_count": 6,
   "id": "0e70bb2c",
   "metadata": {
    "ExecuteTime": {
     "end_time": "2024-01-18T09:15:40.877610Z",
     "start_time": "2024-01-18T09:15:23.544190Z"
    },
    "code_folding": [
     0
    ]
   },
   "outputs": [],
   "source": [
    "def get_fp(ls):\n",
    "    fp = []\n",
    "    if ls == 'all':\n",
    "        ls = os.listdir(f'C:/Users/杜威/Desktop/tardis/profit/final_df')\n",
    "    for coin_part in ls:\n",
    "        for file in os.listdir(f'C:/Users/杜威/Desktop/tardis/profit/final_df/{coin_part}'):\n",
    "            fp0 = pd.read_csv(f'C:/Users/杜威/Desktop/tardis/profit/final_df/{coin_part}/{file}')\n",
    "            fp.append(fp0)\n",
    "    fp = pd.concat(fp)\n",
    "    fp['time'] = pd.to_datetime(fp['time'])\n",
    "    fp = fp.sort_values(by='time').reset_index()\n",
    "    recite = lambda x: x.replace('Z', '').replace('XETH', 'ETH').replace('XXBT', 'XBT').replace('XBT', 'BTC').replace('XXRP','XRP').replace('XLTC','LTC').replace('XXDG','XDG').lower()\n",
    "    fp['pair'] = fp['pair'].map(recite)\n",
    "    fp = fp[['time','eur','gbp','cad','chf','aud','paxg','usdt','dai','usdc','btc','eth','sol','dot','matic','doge','ltc','xrp','ada','link','atom','avax','usd']]\n",
    "    fp = fp.groupby('time',as_index = False).first()\n",
    "    fp['usd'] = 1\n",
    "    fp.rename(columns = {'doge':'xdg'},inplace = True)\n",
    "    return fp.drop_duplicates()\n",
    "fp = get_fp('all')"
   ]
  },
  {
   "cell_type": "code",
   "execution_count": 4,
   "id": "83714c7c",
   "metadata": {
    "ExecuteTime": {
     "end_time": "2024-02-06T02:06:27.337152Z",
     "start_time": "2024-02-06T02:06:27.322274Z"
    },
    "code_folding": [
     1,
     28
    ]
   },
   "outputs": [],
   "source": [
    "#获取全部信息\n",
    "def get_balance(ex):\n",
    "    file = open(r'D:\\临时下载\\mm_statistic_model.json', 'r', encoding='utf-8')\n",
    "    papers = []\n",
    "    for line in file.readlines():\n",
    "        dic = json.loads(line)\n",
    "        dics = {}\n",
    "        dics['time'] = dic['record_time']['$date']\n",
    "        dics.update(dic['balance_quantity'])\n",
    "        papers.append(dics)\n",
    "    papers = pd.DataFrame(papers)\n",
    "    papers['time'] = papers['time'].astype('datetime64[s]')\n",
    "    papers.rename(columns = {'doge':'xdg'}, inplace = True)\n",
    "    \n",
    "    bb = []\n",
    "    for num in ['1', '2', '3', '4']:\n",
    "        dics = {}\n",
    "        dics['time'] = time_list[num][0]\n",
    "        try:\n",
    "            dics.update(balance_map[num][ex])\n",
    "        except:\n",
    "            dics.update(balance_map[num]['kraken_formal'])\n",
    "        bb.append(dics)\n",
    "    bb = pd.DataFrame(bb)\n",
    "    bb['time'] = bb['time'].astype('datetime64[s]')\n",
    "    \n",
    "    return pd.concat([bb, papers])\n",
    "\n",
    "def get_allinfo(ex, way):\n",
    "    df = []\n",
    "    for name in os.listdir(f'C:/Users/杜威/Desktop/tardis/profit/plot/pos/{ex}'):\n",
    "        df_ = pd.read_csv(f'C:/Users/杜威/Desktop/tardis/profit/plot/pos/{ex}/{name}')\n",
    "        df.append(df_)\n",
    "    df = pd.concat(df)\n",
    "    df['time'] = df['time'].astype('datetime64[us]')\n",
    "    df = pd.merge(df, fp, on = 'time', how = 'left')\n",
    "    \n",
    "    if way == 'profit':\n",
    "        df = df[~df['eur'].isna()]\n",
    "    elif way == 'asset':\n",
    "        df['coin2'] = df['coin2'].fillna(0)\n",
    "        df = df.ffill().bfill()\n",
    "        df = df[df['coin1'] != 'kfee']\n",
    "    \n",
    "    df['fp1'] = df.apply(lambda x:x[x['coin1']], axis = 1)\n",
    "    df['fp2'] = df.apply(lambda x:x[x['coin2']], axis = 1)\n",
    "    df['margin'] = df['ch1'] * (df['fp1'] - df['fp2'] * df['price'])\n",
    "    df = df[['time', 'side','coin1', 'coin2', 'price', 'ch1', 'ch2',  'begin1', 'begin2', 'fp1', 'fp2', 'margin']]\n",
    "    if way == 'asset':\n",
    "        return df\n",
    "    balance = get_balance(ex)\n",
    "    df = pd.merge_asof(df, balance, on='time', direction='backward')\n",
    "    df['begin1'] = df.apply(lambda x:x['begin1'] - x[x['coin1']], axis = 1)\n",
    "    df['begin2'] = df.apply(lambda x:x['begin2'] - x[x['coin2']], axis = 1)\n",
    "    df = df[['time', 'coin1', 'coin2', 'price', 'ch1', 'ch2', 'begin1', 'begin2', 'fp1', 'fp2', 'margin']]\n",
    "    df.to_csv(f'C:/Users/杜威/Desktop/tardis/profit/plot/pos_fp/{ex}.csv')"
   ]
  },
  {
   "cell_type": "code",
   "execution_count": 522,
   "id": "c7ecda2c",
   "metadata": {
    "ExecuteTime": {
     "end_time": "2024-01-18T07:34:45.078087Z",
     "start_time": "2024-01-18T07:34:40.849069Z"
    }
   },
   "outputs": [],
   "source": [
    "get_allinfo('kraken_test', 'profit')\n",
    "get_allinfo('kraken_formal', 'profit')"
   ]
  },
  {
   "cell_type": "code",
   "execution_count": null,
   "id": "6b37a158",
   "metadata": {},
   "outputs": [],
   "source": []
  },
  {
   "cell_type": "code",
   "execution_count": 5,
   "id": "0172cdd7",
   "metadata": {
    "ExecuteTime": {
     "end_time": "2024-02-06T02:06:27.958391Z",
     "start_time": "2024-02-06T02:06:27.954380Z"
    },
    "code_folding": [
     0,
     9
    ]
   },
   "outputs": [],
   "source": [
    "def get_df(ex):\n",
    "    df = []\n",
    "    for ex in [ex]:\n",
    "        df_ = pd.read_csv(f'C:/Users/杜威/Desktop/tardis/profit/plot/pos_fp/kraken_{ex}.csv')\n",
    "        df_['time'] = df_['time'].astype('datetime64[ms]')\n",
    "        df.append(df_)\n",
    "    df = pd.concat(df).sort_values('time')\n",
    "    return df\n",
    "\n",
    "def pri_map():\n",
    "    priority = ['ltc','xrp','ada','xdg','link','matic','sol', 'dot', 'atom', 'avax','eth', 'btc','paxg' ,'aud', 'cad', 'chf', 'gbp', 'eur' ,'dai', 'usdt', 'usdc', 'usd']\n",
    "    pri_map = {}\n",
    "    num = 0\n",
    "    for coin in priority:\n",
    "        pri_map[coin] = num\n",
    "        num += 1\n",
    "    return pri_map\n",
    "pri_map = pri_map()"
   ]
  },
  {
   "cell_type": "code",
   "execution_count": 6,
   "id": "fd1f13b6",
   "metadata": {
    "ExecuteTime": {
     "end_time": "2024-02-06T02:06:28.379046Z",
     "start_time": "2024-02-06T02:06:28.363963Z"
    },
    "code_folding": [
     1,
     17,
     33,
     39
    ]
   },
   "outputs": [],
   "source": [
    "#计算收益\n",
    "def split_df(coin, df, pri):\n",
    "    df1 = df[df['coin1'] == coin][['time', 'coin1', 'coin2', 'ch1', 'begin1', 'fp1', 'margin']].rename(columns = \n",
    "                                                                                          {'coin2':'parten','coin1':'asset','ch1':'ch','begin1':'begin','fp1':'fp'})\n",
    "    df2 = df[df['coin2'] == coin][['time', 'coin2', 'coin1', 'ch2', 'begin2', 'fp2', 'margin']].rename(columns = \n",
    "                                                                                          {'coin1':'parten','coin2':'asset','ch2':'ch','begin2':'begin','fp2':'fp'})\n",
    "    df_ = pd.concat([df1, df2]).sort_values('time')\n",
    "    if pri:\n",
    "        df_['margin'] = df_.apply(lambda x: x['margin'] * (pri_map[x['asset']] < pri_map[x['parten']]), axis = 1)\n",
    "    else:\n",
    "        df_['margin'] = df_['margin'] / 2\n",
    "    df_['pos'] = (df_['begin'] + df_['ch']).shift(1)\n",
    "    df_['fp_diff'] = df_['fp'].diff() * df_['pos']\n",
    "    df_['time'] = df_['time'].dt.floor(freq = 'min')\n",
    "    df_ = df_[['time', 'fp_diff', 'margin']].groupby('time', as_index = False).sum()\n",
    "    return df_\n",
    "\n",
    "def show_out(fig, coin, dt2):\n",
    "    dt2 = dt2.sort_values('time').fillna(0)\n",
    "    dt2['profit'] = dt2['fp_diff'] + dt2['margin']\n",
    "    cell = [coin]\n",
    "    for col in ['fp_diff', 'margin', 'profit']:\n",
    "        fig.add_trace(\n",
    "            go.Scatter(\n",
    "                x=dt2['time'],\n",
    "                y=dt2[col].cumsum(),\n",
    "                mode='lines',\n",
    "                name=f'{coin}_{col}'\n",
    "            )\n",
    "        )\n",
    "        cell.append(dt2[col].cumsum().values[-1])\n",
    "    return cell, dt2[['time', 'margin', 'fp_diff']]\n",
    "        \n",
    "def merge_df(df1, df2):\n",
    "    df1 = df1\n",
    "    df2 = df2\n",
    "    df = pd.concat([df1, df2])\n",
    "    return df[['time', 'margin', 'fp_diff']].sort_values('time')\n",
    "    \n",
    "def plot_excel(pri = True, way = 'profit'):\n",
    "    df1 = get_df('formal')\n",
    "    df2 = get_df('test')\n",
    "    if pri:\n",
    "        box = 'pri'\n",
    "    else:\n",
    "        box = 'average'\n",
    "    layout = go.Layout(\n",
    "        title='kraken profit',\n",
    "        xaxis=dict(title='time'),\n",
    "        yaxis=dict(title='dollar')\n",
    "        )\n",
    "    fig = go.Figure(layout=layout)\n",
    "    ls = []\n",
    "    bid = 0\n",
    "    coin_ls = list(balance.columns[1:])\n",
    "    for coin in coin_ls:\n",
    "        dt3 = []\n",
    "        if coin == 'dai':\n",
    "            continue\n",
    "        dt31 = split_df(coin, df1, pri)\n",
    "        dt32 = split_df(coin, df2, pri)\n",
    "        dt3 = pd.concat([dt31, dt32])\n",
    "        if len(dt3) == 0:\n",
    "            continue\n",
    "        cell, dt3 = show_out(fig, coin, dt3)\n",
    "        if bid == 0:\n",
    "            df_all = dt3\n",
    "        else:\n",
    "            df_all = merge_df(df_all, dt3)\n",
    "        bid += 1\n",
    "        ls.append(cell)\n",
    "    if way == 'sharpe':\n",
    "        return df_all\n",
    "    cell, dt_all = show_out(fig, 'all', df_all)\n",
    "    ls.append(cell)\n",
    "    path = f'C:/Users/杜威/Desktop/tardis/profit/plot/fig'\n",
    "    os.chdir(path)\n",
    "    plotly.offline.plot(fig, filename=f'kraken_{box}.html', auto_open=False)\n",
    "    df = pd.DataFrame(ls, columns = ['coin', 'fp_diff', 'margin', 'profit'])\n",
    "    df = sort_df(df, pri_map)\n",
    "    df.to_csv(f'{path}/{box}.csv')"
   ]
  },
  {
   "cell_type": "code",
   "execution_count": 542,
   "id": "66bf2914",
   "metadata": {
    "ExecuteTime": {
     "end_time": "2024-01-18T07:56:46.564877Z",
     "start_time": "2024-01-18T07:49:26.800427Z"
    },
    "code_folding": []
   },
   "outputs": [
    {
     "name": "stderr",
     "output_type": "stream",
     "text": [
      "100%|██████████████████████████████████████████████████████████████████████████████████| 22/22 [01:24<00:00,  3.85s/it]\n",
      "100%|██████████████████████████████████████████████████████████████████████████████████| 22/22 [00:37<00:00,  1.73s/it]\n"
     ]
    }
   ],
   "source": [
    "for pri in [True, False]:\n",
    "    plot_excel(pri = pri)"
   ]
  },
  {
   "cell_type": "code",
   "execution_count": null,
   "id": "cda84701",
   "metadata": {},
   "outputs": [],
   "source": [
    "df1 = pd.read_csv(r'C:\\Users\\杜威\\Desktop\\tardis\\profit\\plot\\fig\\pri.csv')\n",
    "df2 = pd.read_csv(r'C:\\Users\\杜威\\Desktop\\tardis\\profit\\plot\\fig\\average.csv')\n",
    "df1.rename(columns = {'margin': 'margin_priority'}, inplace = True)\n",
    "df1['margin_average'] = df2['margin']\n",
    "df1[['coin', 'fp_diff', 'margin_priority', 'margin_average', 'profit']].to_csv(r'C:\\Users\\杜威\\Desktop\\tardis\\profit\\plot\\fig\\final.csv')"
   ]
  },
  {
   "cell_type": "code",
   "execution_count": null,
   "id": "4618d197",
   "metadata": {},
   "outputs": [],
   "source": []
  },
  {
   "cell_type": "code",
   "execution_count": 192,
   "id": "70f43cfa",
   "metadata": {
    "ExecuteTime": {
     "end_time": "2024-01-18T11:04:17.367190Z",
     "start_time": "2024-01-18T11:04:17.360965Z"
    },
    "code_folding": [
     1
    ]
   },
   "outputs": [],
   "source": [
    "#计算基金收益\n",
    "def cal_index(begin_asset):\n",
    "    dt_all = plot_excel(pri = True, way = 'sharpe')\n",
    "    # 计算夏普比率  \n",
    "    def sharpe(returns, risk_free_rate=0.00):  \n",
    "        return 365 ** 0.5 * np.mean(returns) / np.std(returns) - risk_free_rate  \n",
    "  \n",
    "    # 计算最大回撤  \n",
    "    def drawdown(values):  \n",
    "        dd = []\n",
    "        for i in range(len(values)):  \n",
    "            d = max([(values[i]/x - 1) for x in values[i:]])\n",
    "            dd.append(d)\n",
    "        return max(dd)  \n",
    "    dt_all['D'] = dt_all['time'].astype('datetime64[D]')\n",
    "    dt_all = dt_all.groupby('D', as_index = False).sum()\n",
    "    dt_all['profit'] = dt_all['margin'] + dt_all['fp_diff']\n",
    "    dt_all['asset'] = (dt_all['profit'].cumsum() + begin_asset).shift(1).fillna(begin_asset)\n",
    "    dt_all['return'] = dt_all['profit'] / dt_all['asset']\n",
    "    dt_all['year_p'] = dt_all['return']*365\n",
    "    print('年化夏普比率:  ',sharpe(dt_all['year_p']))\n",
    "    print('最大回撤:      ',drawdown(dt_all['asset']))"
   ]
  },
  {
   "cell_type": "code",
   "execution_count": null,
   "id": "226b2b42",
   "metadata": {},
   "outputs": [],
   "source": [
    "cal_index(5000000)"
   ]
  },
  {
   "cell_type": "code",
   "execution_count": null,
   "id": "ae766d23",
   "metadata": {},
   "outputs": [],
   "source": []
  },
  {
   "cell_type": "code",
   "execution_count": 190,
   "id": "f460d935",
   "metadata": {
    "ExecuteTime": {
     "end_time": "2024-01-18T11:03:02.043151Z",
     "start_time": "2024-01-18T11:03:02.026335Z"
    },
    "code_folding": [
     1,
     13
    ]
   },
   "outputs": [],
   "source": [
    "#计算总资产变动\n",
    "def lim_asset(df, coin):\n",
    "    df1_ = df[df['coin1'] == coin][['time','time_D', 'coin1', 'coin2', 'ch1', 'begin1', 'fp1', 'margin']].rename(columns = \n",
    "                                                                                          {'coin2':'parten','coin1':'asset','ch1':'ch','begin1':'begin','fp1':'fp'})\n",
    "    df2_ = df[df['coin2'] == coin][['time','time_D', 'coin2', 'coin1', 'ch2', 'begin2', 'fp2', 'margin']].rename(columns = \n",
    "                                                                                          {'coin1':'parten','coin2':'asset','ch2':'ch','begin2':'begin','fp2':'fp'})\n",
    "    df_ = pd.concat([df1_, df2_]).sort_values('time')\n",
    "    df_['A'] = df_['fp'] * (df_['begin'] + df_['ch'])\n",
    "    df_ = df_[['time_D', 'A']].groupby('time_D', as_index = False).last()\n",
    "    tt = df[['time_D']].groupby('time_D', as_index = False).first()\n",
    "    df_ = pd.merge(tt, df_, on = 'time_D', how = 'left').ffill()\n",
    "    return df_\n",
    "\n",
    "def get_allasset():\n",
    "    df1 = get_allinfo('kraken_formal', 'asset')\n",
    "    df1['time_D'] = df1['time'].astype('datetime64[D]')\n",
    "    df2 = get_allinfo('kraken_test', 'asset')\n",
    "    df2['time_D'] = df2['time'].astype('datetime64[D]')\n",
    "    ls = []\n",
    "    for coin in pri_map:\n",
    "        ls.append(lim_asset(df1, coin))\n",
    "        ls.append(lim_asset(df2, coin))\n",
    "    ls = pd.concat(ls).groupby('time_D', as_index = False).sum()\n",
    "    ls.loc[ls['time_D'] < '2023-05-15', 'A'] += 1200000\n",
    "    plt.figure(figsize = (15, 8))\n",
    "    plt.plot(ls.time_D, ls.A)"
   ]
  },
  {
   "cell_type": "code",
   "execution_count": 176,
   "id": "0f28408c",
   "metadata": {
    "ExecuteTime": {
     "end_time": "2024-01-18T10:52:14.275869Z",
     "start_time": "2024-01-18T10:52:14.181420Z"
    }
   },
   "outputs": [
    {
     "data": {
      "text/plain": [
       "[<matplotlib.lines.Line2D at 0x1cc6896d820>]"
      ]
     },
     "execution_count": 176,
     "metadata": {},
     "output_type": "execute_result"
    },
    {
     "data": {
      "image/png": "[encoded data removed]",
      "text/plain": [
       "<Figure size 1080x576 with 1 Axes>"
      ]
     },
     "metadata": {
      "needs_background": "light"
     },
     "output_type": "display_data"
    }
   ],
   "source": [
    "get_allasset()"
   ]
  },
  {
   "cell_type": "code",
   "execution_count": null,
   "id": "336776cc",
   "metadata": {},
   "outputs": [],
   "source": []
  },
  {
   "cell_type": "code",
   "execution_count": 11,
   "id": "22c67062",
   "metadata": {
    "ExecuteTime": {
     "end_time": "2024-01-14T13:13:02.361246Z",
     "start_time": "2024-01-14T13:13:02.343865Z"
    },
    "code_folding": [
     0
    ]
   },
   "outputs": [],
   "source": [
    "def save_begin(ex, time_list, ls_trade, ls_ledger, ls_time):\n",
    "    trade = get_trade(ex, ls_trade)\n",
    "    ledger = get_ledger(ex, ls_ledger)\n",
    "    begin_pos = read_dic(f'{ex}_begin')\n",
    "    for num in ls_time:\n",
    "        begin_pos[num] = get_begin(trade, ledger, time_list[num])\n",
    "    save_dic(f'{ex}_begin', begin_pos)"
   ]
  },
  {
   "cell_type": "code",
   "execution_count": 119,
   "id": "69536631",
   "metadata": {
    "ExecuteTime": {
     "end_time": "2023-12-22T05:10:15.646826Z",
     "start_time": "2023-12-22T05:10:11.552214Z"
    }
   },
   "outputs": [],
   "source": [
    "save_begin('kraken_formal', time_list, [8], [8], ['7'])\n",
    "#save_begin('kraken_test', [1,2,3], [1,4], time_list)"
   ]
  },
  {
   "cell_type": "markdown",
   "id": "bf17e2d9",
   "metadata": {},
   "source": [
    "##  ib外汇"
   ]
  },
  {
   "cell_type": "code",
   "execution_count": 11,
   "id": "15d19372",
   "metadata": {
    "ExecuteTime": {
     "end_time": "2024-02-06T03:20:46.729843Z",
     "start_time": "2024-02-06T03:20:46.722674Z"
    }
   },
   "outputs": [],
   "source": [
    "import tarfile"
   ]
  },
  {
   "cell_type": "code",
   "execution_count": 10,
   "id": "f989bf7f",
   "metadata": {
    "ExecuteTime": {
     "end_time": "2024-02-06T03:20:44.527943Z",
     "start_time": "2024-02-06T03:20:44.510895Z"
    }
   },
   "outputs": [],
   "source": [
    "FX_ls = ['eur', 'chf', 'cad', 'paxg', 'gbp', 'aud']"
   ]
  },
  {
   "cell_type": "code",
   "execution_count": 41,
   "id": "cb8e7f29",
   "metadata": {
    "ExecuteTime": {
     "end_time": "2024-02-06T04:11:13.677030Z",
     "start_time": "2024-02-06T04:11:13.670788Z"
    },
    "code_folding": [
     0,
     10
    ]
   },
   "outputs": [],
   "source": [
    "#本地df和fp处理\n",
    "def get_ibdf(ex):\n",
    "    df = []\n",
    "    for name in os.listdir(f'C:/Users/杜威/Desktop/tardis/profit/plot/pos/{ex}'):\n",
    "        df_ = pd.read_csv(f'C:/Users/杜威/Desktop/tardis/profit/plot/pos/{ex}/{name}')\n",
    "        df.append(df_)\n",
    "    df = pd.concat(df)\n",
    "    df['time'] = df['time'].astype('datetime64[us]')\n",
    "    df = df[df.coin1.isin(FX_ls) | df.coin2.isin(FX_ls)].reset_index(drop = True)\n",
    "    return df.iloc[:, 1:]\n",
    "\n",
    "def all_ibdf():\n",
    "    formal = get_ibdf('kraken_formal')\n",
    "    test = get_ibdf('kraken_test')\n",
    "    df = pd.concat([formal, test]).sort_values('time').reset_index(drop = True)\n",
    "    return df"
   ]
  },
  {
   "cell_type": "code",
   "execution_count": 15,
   "id": "94ac3065",
   "metadata": {
    "ExecuteTime": {
     "end_time": "2024-02-05T01:42:08.690737Z",
     "start_time": "2024-02-05T01:42:08.682732Z"
    },
    "code_folding": [
     0,
     18,
     26
    ]
   },
   "outputs": [],
   "source": [
    "def extrazip_ibfp(FX, begin, end, time_diff):\n",
    "    filepath = f'D:/临时下载/ticks/ib_mongo_{FX}.tar.gz'\n",
    "    fp = []\n",
    "    with tarfile.open(filepath, 'r:gz') as tar:\n",
    "        file_ls = tar.getnames()\n",
    "        for file in file_ls:\n",
    "            if ('/' not in file) or (file.split('/')[1][:8] > end) or (file.split('/')[1][:8] < begin):\n",
    "                continue\n",
    "            file_1 = tar.extractfile(f'{file}')\n",
    "            fp_2 = pd.read_csv(file_1)\n",
    "            fp.append(fp_2)\n",
    "    fp = pd.concat(fp)\n",
    "    f_gettime = lambda x: datetime.fromtimestamp((x) / 1000000) ##get datatime_type\n",
    "    fp['time'] = fp.local_timestamp.map(f_gettime) + time_diff\n",
    "    fp['mid'] = fp[['ask_price', 'bid_price']].mean(axis = 1)\n",
    "    fp_2 = fp[['time', 'mid']].rename(columns = {'mid': FX}).sort_values('time').reset_index(drop = True)\n",
    "    return fp_2\n",
    "\n",
    "def get_ibfp(df, begin, end, time_diff, gap):\n",
    "    for FX in FX_ls:\n",
    "        fp_2 = extrazip_ibfp(FX, begin, end, time_diff)\n",
    "        df.sort_values(by='time', inplace=True)\n",
    "        fp_2.sort_values(by='time', inplace=True)\n",
    "        df = pd.merge_asof(df, fp_2, on='time', direction='backward', tolerance = pd.Timedelta(5, 'min'))\n",
    "    df[['time'] + FX_ls].to_csv(f'C:/Users/杜威/Desktop/tardis/profit/ib_fp/{gap}/ib_10.csv')\n",
    "    \n",
    "def get_ibgap(begin, end):\n",
    "    for FX in FX_ls:\n",
    "        fp_2 = extrazip_ibfp(FX, begin, end, timedelta(milliseconds=50))\n",
    "        fp_2['time_diff'] = fp_2['time'].diff()\n",
    "        fp_2['time_diff_1'] = fp_2['time_diff'].shift(-1)\n",
    "        fp_2 = fp_2[~(fp_2['time_diff'] <= timedelta(minutes = 14)) | ~(fp_2['time_diff_1'] <= timedelta(minutes = 14))]\n",
    "        df1 = pd.read_csv(f'C:/Users/杜威/Desktop/tardis/profit/ib_gap/{FX}_0.csv', index_col=0)\n",
    "        df1['time'] = df1['time'].astype('datetime64[ns]')\n",
    "        df2 = pd.read_csv(f'C:/Users/杜威/Desktop/tardis/profit/ib_gap/{FX}_1.csv', index_col=0)\n",
    "        df2['time'] = df2['time'].astype('datetime64[ns]')\n",
    "        df = pd.concat([df1, df2, fp_2])\n",
    "        df = df.sort_values('time').reset_index(drop=True)\n",
    "        df['time'] -= timedelta(milliseconds=50)\n",
    "        df.to_csv(f'C:/Users/杜威/Desktop/tardis/profit/ib_gap/{FX}.csv')"
   ]
  },
  {
   "cell_type": "code",
   "execution_count": 19,
   "id": "ba4d9caf",
   "metadata": {
    "ExecuteTime": {
     "end_time": "2024-02-05T02:38:44.176940Z",
     "start_time": "2024-02-05T02:13:54.815635Z"
    }
   },
   "outputs": [],
   "source": [
    "begin = '20231001'\n",
    "end = '20240103'\n",
    "\n",
    "time_diff_ls = [timedelta(milliseconds=0),timedelta(milliseconds=100),timedelta(milliseconds=500),\n",
    "                 timedelta(seconds=2),timedelta(seconds=10), timedelta(seconds=30),timedelta(minutes=1),\n",
    "                 timedelta(minutes=5),timedelta(minutes=25),timedelta(hours=2),timedelta(hours=10)]\n",
    "gap_ls = ['0ms', '100ms', '500ms', '2s', '10s', '30s', '1min', '5min', '25min', '2h', '10h']\n",
    "for time_diff, gap in zip(time_diff_ls, gap_ls):\n",
    "    get_ibfp(df, begin, end, time_diff, gap)\n",
    "#get_ibgap(begin, end)"
   ]
  },
  {
   "cell_type": "code",
   "execution_count": null,
   "id": "b399a025",
   "metadata": {},
   "outputs": [],
   "source": []
  },
  {
   "cell_type": "code",
   "execution_count": 7,
   "id": "cc436b61",
   "metadata": {
    "ExecuteTime": {
     "end_time": "2024-02-06T02:10:38.799905Z",
     "start_time": "2024-02-06T02:10:38.789619Z"
    },
    "code_folding": [
     0
    ]
   },
   "outputs": [],
   "source": [
    "def load_ibfp(gap):\n",
    "    fp = []\n",
    "    for file in os.listdir(f'C:/Users/杜威/Desktop/tardis/profit/ib_fp/{gap}'):\n",
    "        df = pd.read_csv(f'C:/Users/杜威/Desktop/tardis/profit/ib_fp/{gap}/{file}')\n",
    "        fp.append(df)\n",
    "    fp = pd.concat(fp)\n",
    "    fp['time'] = pd.to_datetime(fp['time'])\n",
    "    fp = fp.sort_values(by='time').reset_index(drop = True)\n",
    "    for col in pri_map:\n",
    "        if col not in fp.columns:\n",
    "            fp[col] = 1\n",
    "    return fp.iloc[:, 1:].drop_duplicates().dropna()"
   ]
  },
  {
   "cell_type": "code",
   "execution_count": 139,
   "id": "cbeab485",
   "metadata": {
    "ExecuteTime": {
     "end_time": "2024-02-01T07:09:35.013223Z",
     "start_time": "2024-02-01T07:09:27.648122Z"
    }
   },
   "outputs": [],
   "source": [
    "fp = load_ibfp('50ms')"
   ]
  },
  {
   "cell_type": "code",
   "execution_count": 18,
   "id": "955e94e2",
   "metadata": {
    "ExecuteTime": {
     "end_time": "2024-02-06T03:52:39.296517Z",
     "start_time": "2024-02-06T03:52:39.243793Z"
    },
    "code_folding": [
     1,
     13,
     19,
     31,
     46,
     50
    ]
   },
   "outputs": [],
   "source": [
    "#计算ib上的净持仓亏损\n",
    "def clean_pos(ex, df):\n",
    "    df = df.dropna()\n",
    "    df['fp1'] = df.apply(lambda x:x[x['coin1']], axis = 1)\n",
    "    df['fp2'] = df.apply(lambda x:x[x['coin2']], axis = 1)\n",
    "    df = df[['time', 'side','coin1', 'coin2', 'price', 'ch1', 'ch2',  'begin1', 'begin2', 'fp1', 'fp2']]\n",
    "    balance = get_balance(ex)\n",
    "    df = pd.merge_asof(df, balance, on='time', direction='backward')\n",
    "    df['begin1'] = df.apply(lambda x:x['begin1'] - x[x['coin1']], axis = 1)\n",
    "    df['begin2'] = df.apply(lambda x:x['begin2'] - x[x['coin2']], axis = 1)\n",
    "    df = df[['time', 'coin1', 'coin2', 'price', 'ch1', 'ch2', 'begin1', 'begin2', 'fp1', 'fp2']]\n",
    "    return df\n",
    "\n",
    "def load_ibdf(ex, fp):\n",
    "    df = get_ibdf(ex)\n",
    "    df1 = pd.merge(df, fp, on = 'time', how = 'left')\n",
    "    df2 = clean_pos(ex, df1)\n",
    "    return df2\n",
    "\n",
    "def split_df(coin, df):\n",
    "    df1 = df[df['coin1'] == coin][['time', 'coin1', 'coin2', 'ch1', 'begin1', 'fp1']].rename(columns = \n",
    "                                                                                          {'coin2':'parten','coin1':'asset','ch1':'ch','begin1':'begin','fp1':'fp'})\n",
    "    df2 = df[df['coin2'] == coin][['time', 'coin2', 'coin1', 'ch2', 'begin2', 'fp2']].rename(columns = \n",
    "                                                                                          {'coin1':'parten','coin2':'asset','ch2':'ch','begin2':'begin','fp2':'fp'})\n",
    "    df_ = pd.concat([df1, df2]).sort_values('time')\n",
    "    df_['pos'] = (df_['begin'] + df_['ch']).shift(1)\n",
    "    df_['fp_diff'] = df_['fp'].diff() * df_['pos']\n",
    "    df_['time_diff'] = df_['time'].diff()\n",
    "    df_['FX_loss'] = (df_['time_diff'] <= timedelta(hours = 1)) * df_['fp_diff']\n",
    "    return df_.reset_index(drop = True)\n",
    "\n",
    "def show_out(fig, coin, dt2):\n",
    "    dt2 = dt2[['time', 'FX_loss']].sort_values('time').fillna(0)\n",
    "    cell = [coin]\n",
    "    for col in ['FX_loss']:\n",
    "        fig.add_trace(\n",
    "            go.Scatter(\n",
    "                x=dt2['time'],\n",
    "                y=dt2[col].cumsum(),\n",
    "                mode='lines',\n",
    "                name=f'{coin}_{col}'\n",
    "            )\n",
    "        )\n",
    "        cell.append(dt2[col].cumsum().values[-1])\n",
    "    return cell, dt2[['time', 'FX_loss']]\n",
    "        \n",
    "def merge_df(df1, df2):\n",
    "    df = pd.concat([df1, df2])\n",
    "    return df[['time', 'FX_loss']].sort_values('time')\n",
    "    \n",
    "def plot_excel(fp, way = 'profit'):\n",
    "    df1 = load_ibdf('kraken_formal', fp)\n",
    "    df2 = load_ibdf('kraken_test', fp)\n",
    "    layout = go.Layout(\n",
    "        title='kraken FX loss',\n",
    "        xaxis=dict(title='time'),\n",
    "        yaxis=dict(title='dollar')\n",
    "        )\n",
    "    fig = go.Figure(layout=layout)\n",
    "    ls = []\n",
    "    bid = 0\n",
    "    for coin in FX_ls:\n",
    "        dt3 = []\n",
    "        dt31 = split_df(coin, df1)\n",
    "        dt32 = split_df(coin, df2)\n",
    "        dt3 = pd.concat([dt31, dt32])\n",
    "        if len(dt3) == 0:\n",
    "            continue\n",
    "        cell, dt3 = show_out(fig, coin, dt3)\n",
    "        if bid == 0:\n",
    "            df_all = dt3\n",
    "        else:\n",
    "            df_all = merge_df(df_all, dt3)\n",
    "        bid += 1\n",
    "        ls.append(cell)\n",
    "    if way == 'sharpe':\n",
    "        return df_all\n",
    "    cell, dt_all = show_out(fig, 'all', df_all)\n",
    "    ls.append(cell)\n",
    "    path = f'C:/Users/杜威/Desktop/tardis/profit/plot/fig'\n",
    "    os.chdir(path)\n",
    "    plotly.offline.plot(fig, filename=f'kraken_FX.html', auto_open=False)\n",
    "    df = pd.DataFrame(ls, columns = ['coin', 'FX_loss'])\n",
    "    df2 = pd.read_csv(r'C:\\Users\\杜威\\Desktop\\tardis\\profit\\plot\\fig\\final.csv')\n",
    "    df = pd.merge(df, df2[['coin', 'fp_diff']], on = 'coin', how = 'left')\n",
    "    df.to_csv(f'{path}/FX.csv')"
   ]
  },
  {
   "cell_type": "code",
   "execution_count": 162,
   "id": "37609683",
   "metadata": {
    "ExecuteTime": {
     "end_time": "2024-02-01T07:39:02.948942Z",
     "start_time": "2024-02-01T07:36:30.240451Z"
    }
   },
   "outputs": [],
   "source": [
    "plot_excel(fp)"
   ]
  },
  {
   "cell_type": "code",
   "execution_count": null,
   "id": "269f8669",
   "metadata": {},
   "outputs": [],
   "source": []
  },
  {
   "cell_type": "code",
   "execution_count": 63,
   "id": "7b668393",
   "metadata": {
    "ExecuteTime": {
     "end_time": "2024-02-06T05:01:59.263473Z",
     "start_time": "2024-02-06T05:01:59.253986Z"
    },
    "code_folding": [
     1,
     10,
     18,
     25,
     35
    ]
   },
   "outputs": [],
   "source": [
    "#计算交易量随时间的亏损\n",
    "def merge_ibtime(df, gap):\n",
    "    fp = load_ibfp(gap)\n",
    "    df = pd.merge(df, fp, on = 'time', how = 'left')\n",
    "    df = df.dropna()\n",
    "    df['fp1'] = df.apply(lambda x:x[x['coin1']], axis = 1)\n",
    "    df['fp2'] = df.apply(lambda x:x[x['coin2']], axis = 1)\n",
    "    df = df[['time','coin1', 'coin2','ch1', 'ch2','fp1', 'fp2']]\n",
    "    return df\n",
    "\n",
    "def split_coin(coin, df):\n",
    "    df1 = df[df['coin1'] == coin][['time', 'coin1', 'ch1', 'fp1']].rename(columns = \n",
    "                                                                {'coin1':'asset','ch1':'ch','fp1':'fp'})\n",
    "    df2 = df[df['coin2'] == coin][['time', 'coin2', 'ch2', 'fp2']].rename(columns = \n",
    "                                                                {'coin2':'asset','ch2':'ch','fp2':'fp'})\n",
    "    df_ = pd.concat([df1, df2]).sort_values('time')\n",
    "    return df_\n",
    "\n",
    "def call_ibdiff(coin, dft, tt):\n",
    "    dft = split_coin(coin, dft)\n",
    "    tt = split_coin(coin, tt)\n",
    "    df = pd.merge(dft, tt, on = ['time', 'asset', 'ch'], how = 'left')\n",
    "    df['fp_diff'] = (df['fp_x'] - df['fp_y']) * df['ch']\n",
    "    return np.sum(df['fp_diff'])\n",
    "\n",
    "def sum_ibdiff(dft, tt, gap):\n",
    "    coin_ls = ['eur', 'chf', 'cad', 'paxg', 'gbp', 'aud']\n",
    "    diff_ls = []\n",
    "    for coin in coin_ls:\n",
    "        diff_ls.append(call_ibdiff(coin, dft, tt))\n",
    "    coin_ls.append('all')\n",
    "    diff_ls.append(sum(diff_ls))\n",
    "    df = pd.DataFrame(diff_ls, coin_ls).reset_index().rename(columns = {'index': 'coin', 0: gap})\n",
    "    return df\n",
    "\n",
    "def final_ibdiff(gap_ls):\n",
    "    df = all_ibdf()\n",
    "    dft = merge_ibtime(df, '50ms')\n",
    "    df_ = sum_ibdiff(dft, dft, '50ms')\n",
    "    for gap in gap_ls:\n",
    "        tt = merge_ibtime(df, gap)\n",
    "        _df = sum_ibdiff(dft, tt, gap)\n",
    "        df_ = pd.merge(df_, _df, on = 'coin')\n",
    "    return df_"
   ]
  },
  {
   "cell_type": "code",
   "execution_count": 64,
   "id": "05e82f34",
   "metadata": {
    "ExecuteTime": {
     "end_time": "2024-02-06T05:02:12.364297Z",
     "start_time": "2024-02-06T05:02:12.352035Z"
    }
   },
   "outputs": [],
   "source": [
    "gap_ls = ['0ms', '100ms', '500ms', '2s', '10s', '30s', '1min', '5min', '25min', '2h', '10h']"
   ]
  },
  {
   "cell_type": "code",
   "execution_count": 65,
   "id": "e361bbb6",
   "metadata": {
    "ExecuteTime": {
     "end_time": "2024-02-06T05:08:45.216750Z",
     "start_time": "2024-02-06T05:02:17.698560Z"
    }
   },
   "outputs": [],
   "source": [
    "df = final_ibdiff(gap_ls)"
   ]
  },
  {
   "cell_type": "code",
   "execution_count": 91,
   "id": "6ae88799",
   "metadata": {
    "ExecuteTime": {
     "end_time": "2024-02-06T05:25:50.921538Z",
     "start_time": "2024-02-06T05:25:50.879264Z"
    }
   },
   "outputs": [
    {
     "data": {
      "text/plain": [
       "'kraken_timediff.html'"
      ]
     },
     "execution_count": 91,
     "metadata": {},
     "output_type": "execute_result"
    }
   ],
   "source": [
    "    layout = go.Layout(\n",
    "        title='kraken time_diff',\n",
    "        xaxis=dict(title='time'),\n",
    "        yaxis=dict(title='dollar')\n",
    "        )\n",
    "    fig = go.Figure(layout=layout)\n",
    "    for i in range(7):\n",
    "        fig.add_trace(\n",
    "            go.Scatter(\n",
    "                x=df.columns[1:],\n",
    "                y=df.iloc[i:i+1, 1:].values.reshape(-1),\n",
    "                mode='lines',\n",
    "                name=df['coin'][i]\n",
    "            )\n",
    "        )\n",
    "    path = f'C:/Users/杜威/Desktop/tardis/profit/plot/fig'\n",
    "    os.chdir(path)\n",
    "    plotly.offline.plot(fig, filename=f'kraken_timediff.html', auto_open=False)"
   ]
  },
  {
   "cell_type": "code",
   "execution_count": 90,
   "id": "406c0740",
   "metadata": {
    "ExecuteTime": {
     "end_time": "2024-02-06T05:25:34.016452Z",
     "start_time": "2024-02-06T05:25:34.001282Z"
    }
   },
   "outputs": [],
   "source": [
    "df = df.reindex(['coin', '0ms', '50ms', '100ms', '500ms', '2s', '10s', '30s', '1min', '5min', '25min', '2h', '10h'], axis=1)"
   ]
  },
  {
   "cell_type": "code",
   "execution_count": 92,
   "id": "33c94172",
   "metadata": {
    "ExecuteTime": {
     "end_time": "2024-02-06T05:26:19.857646Z",
     "start_time": "2024-02-06T05:26:19.840958Z"
    }
   },
   "outputs": [],
   "source": [
    "df.to_csv(f'{path}/timediff.csv')"
   ]
  },
  {
   "cell_type": "code",
   "execution_count": null,
   "id": "dcec3a29",
   "metadata": {},
   "outputs": [],
   "source": []
  },
  {
   "cell_type": "code",
   "execution_count": null,
   "id": "f53caa30",
   "metadata": {},
   "outputs": [],
   "source": []
  },
  {
   "cell_type": "code",
   "execution_count": 178,
   "id": "a16af6e9",
   "metadata": {
    "ExecuteTime": {
     "end_time": "2024-02-02T14:50:58.139363Z",
     "start_time": "2024-02-02T14:50:58.126176Z"
    },
    "code_folding": [
     1,
     10,
     29,
     39
    ]
   },
   "outputs": [],
   "source": [
    "#计算收盘时的跳跃损失\n",
    "def clean_FXdf(ex):\n",
    "    df = get_ibdf('kraken_formal').dropna()\n",
    "    balance = get_balance(ex)\n",
    "    df = pd.merge_asof(df, balance, on='time', direction='backward')\n",
    "    df['begin1'] = df.apply(lambda x:x['begin1'] - x[x['coin1']], axis = 1)\n",
    "    df['begin2'] = df.apply(lambda x:x['begin2'] - x[x['coin2']], axis = 1)\n",
    "    df = df[['time', 'coin1', 'coin2', 'price', 'ch1', 'ch2', 'begin1', 'begin2']]\n",
    "    return df\n",
    "\n",
    "def get_FXgap(ex, FX, df):\n",
    "    fp = pd.read_csv(f'C:/Users/杜威/Desktop/tardis/profit/ib_gap/{FX}.csv', index_col=0)\n",
    "    fp['time'] = fp['time'].astype('datetime64[ns]')\n",
    "    fp['time_diff_2'] = fp['time'].diff()\n",
    "    fp['time_diff'] = fp['time_diff'].fillna(fp['time_diff_2']).astype('str')\n",
    "    fp['time_diff_1'] = fp['time_diff'].shift(-1)\n",
    "    fp = fp[(fp['time_diff'] >= '0 days 00:14:00') | (fp['time_diff_1'] >= '0 days 00:14:00')].dropna()\n",
    "    \n",
    "    df1 = df[df['coin1'] == FX][['time', 'coin1', 'ch1', 'begin1']].rename(columns = \n",
    "                                                        {'coin1':'asset','ch1':'ch','begin1':'begin'})\n",
    "    df2 = df[df['coin2'] == FX][['time', 'coin2', 'ch2', 'begin2']].rename(columns = \n",
    "                                                        {'coin2':'asset','ch2':'ch','begin2':'begin'})\n",
    "    df_ = pd.concat([df1, df2]).sort_values('time')\n",
    "    df_['pos'] = (df_['begin'] + df_['ch']).shift(1)\n",
    "    \n",
    "    df_ = pd.merge_asof(fp[['time', FX, 'time_diff']], df_[['time', 'pos']], on='time', direction='backward')\n",
    "    df_['FX_gap'] = df_['pos'].shift(0) * df_[FX].diff() * (df_['time_diff'] >= '0 days 00:14:00')\n",
    "    return df_\n",
    "    \n",
    "def add_FXgap(fig, dt_, FX):\n",
    "    fig.add_trace(\n",
    "        go.Scatter(\n",
    "            x=dt_['time'],\n",
    "            y=dt_['FX_gap'].cumsum(),\n",
    "            mode='lines',\n",
    "            name=f'{FX}'\n",
    "        )\n",
    "    )\n",
    "    \n",
    "def plot_FXgap(ex):\n",
    "    layout = go.Layout(\n",
    "        title='kraken FX Gap',\n",
    "        xaxis=dict(title='time'),\n",
    "        yaxis=dict(title='dollar')\n",
    "        )\n",
    "    fig = go.Figure(layout=layout)\n",
    "    bid = 0\n",
    "    ls = []\n",
    "    \n",
    "    df = clean_FXdf(ex)\n",
    "    for FX in FX_ls:\n",
    "        df_ = get_FXgap(ex, FX, df)\n",
    "        add_FXgap(fig, df_, FX)\n",
    "        if bid == 0:\n",
    "            df_all = df_\n",
    "        else:\n",
    "            df_all = pd.concat([df_all, df_])\n",
    "            df_all = df_all[['time', 'FX_gap']].sort_values('time')\n",
    "        bid += 1\n",
    "        ls.append([FX, df_['FX_gap'].cumsum().values[-1]])\n",
    "    add_FXgap(fig, df_all, 'All')\n",
    "    ls.append(['All', df_all['FX_gap'].cumsum().values[-1]])\n",
    "    path = f'C:/Users/杜威/Desktop/tardis/profit/plot/fig'\n",
    "    os.chdir(path)\n",
    "    plotly.offline.plot(fig, filename=f'kraken_FXGap.html', auto_open=False)\n",
    "    df = pd.DataFrame(ls, columns = ['coin', 'FX_gap'])\n",
    "    df.to_csv(f'{path}/FX_Gap.csv')"
   ]
  },
  {
   "cell_type": "code",
   "execution_count": 179,
   "id": "41d3af76",
   "metadata": {
    "ExecuteTime": {
     "end_time": "2024-02-02T14:51:31.605808Z",
     "start_time": "2024-02-02T14:50:59.145702Z"
    }
   },
   "outputs": [],
   "source": [
    "plot_FXgap('kraken_formal')"
   ]
  },
  {
   "cell_type": "code",
   "execution_count": null,
   "id": "883e5528",
   "metadata": {},
   "outputs": [],
   "source": []
  },
  {
   "cell_type": "markdown",
   "id": "caf52f93",
   "metadata": {},
   "source": [
    "# 旧方法"
   ]
  },
  {
   "cell_type": "markdown",
   "id": "3edc5511",
   "metadata": {},
   "source": [
    "## 开仓平仓配对"
   ]
  },
  {
   "cell_type": "code",
   "execution_count": 10,
   "id": "6ecfe485",
   "metadata": {
    "ExecuteTime": {
     "end_time": "2024-01-04T07:02:35.044646Z",
     "start_time": "2024-01-04T07:02:35.021545Z"
    }
   },
   "outputs": [],
   "source": [
    "balance_map = read_dic('balance')\n",
    "time_ls = read_dic('time')\n",
    "kk_fm_begin = read_dic('kraken_formal_begin')\n",
    "kk_tt_begin = read_dic('kraken_test_begin')"
   ]
  },
  {
   "cell_type": "code",
   "execution_count": 11,
   "id": "a36c3fcf",
   "metadata": {
    "ExecuteTime": {
     "end_time": "2024-01-04T07:02:35.234517Z",
     "start_time": "2024-01-04T07:02:35.225485Z"
    },
    "code_folding": [
     0
    ]
   },
   "outputs": [],
   "source": [
    "def into_trade(df,balance,begin_dic,time_part):\n",
    "    rows = df.columns\n",
    "    begin = copy.deepcopy(begin_dic)\n",
    "    fp_map = {}\n",
    "    p = 0\n",
    "    for t in rows:\n",
    "        fp_map[t] = p\n",
    "        p += 1\n",
    "    df = df[(df['time']>=time_part[0]) & (df['time']<=time_part[1])]\n",
    "    arr = df.to_numpy()\n",
    "    trade_records = np.empty((len(arr), 15), dtype=object)\n",
    "    for i in range(0, len(arr)):\n",
    "        if arr[i][1][-4:] in ['usdt','usdc']:\n",
    "            coin1,coin2 = arr[i][1][:-4],arr[i][1][-4:]\n",
    "        else:\n",
    "            coin1,coin2 = arr[i][1][:-3],arr[i][1][-3:]\n",
    "            \n",
    "        amount,value = arr[i][4],arr[i][5]\n",
    "        price = arr[i][3] \n",
    "        fprice1 = arr[i][fp_map[coin1]]\n",
    "        fprice2 = arr[i][fp_map[coin2]]\n",
    "        \n",
    "        if arr[i][2] == 'buy':\n",
    "            buy_coin,sell_coin = coin1,coin2\n",
    "            buy_num,sell_num = 1,2\n",
    "            buy_amount,sell_amount = amount,value*-1\n",
    "            margin = fprice1 - price * fprice2\n",
    "        else:\n",
    "            buy_coin,sell_coin = coin2,coin1\n",
    "            buy_num,sell_num = 2,1\n",
    "            buy_amount,sell_amount = value,amount*-1\n",
    "            margin = price * fprice2 - fprice1\n",
    "            \n",
    "        buy_fp = arr[i][fp_map[buy_coin]]\n",
    "        sell_fp = arr[i][fp_map[sell_coin]]\n",
    "        \n",
    "        buy_pos_begin = begin[buy_coin] - balance[buy_coin]\n",
    "        sell_pos_begin = begin[sell_coin] - balance[sell_coin]\n",
    "        begin[buy_coin] += buy_amount\n",
    "        begin[sell_coin] += sell_amount\n",
    "        buy_pos_end = begin[buy_coin] - balance[buy_coin]\n",
    "        sell_pos_end = begin[sell_coin] - balance[sell_coin]\n",
    "\n",
    "        trade_record = np.array([arr[i][0],buy_coin,buy_amount,buy_fp,buy_pos_begin,buy_pos_end,\n",
    "                                 sell_coin,sell_amount,sell_fp,sell_pos_begin,sell_pos_end,margin,buy_num,sell_num,price])\n",
    "        trade_records[i] = trade_record\n",
    "\n",
    "    columns = ['time', 'buy_coin', 'buy_amount','buy_fp','buy_pos_begin','buy_pos_end',\n",
    "               'sell_coin', 'sell_amount', 'sell_fp','sell_pos_begin','sell_pos_end','margin','buy_num','sell_num','price']\n",
    "    trade_records_df = pd.DataFrame(trade_records, columns=columns)\n",
    "    return trade_records_df"
   ]
  },
  {
   "cell_type": "code",
   "execution_count": 12,
   "id": "1d8f19f8",
   "metadata": {
    "ExecuteTime": {
     "end_time": "2024-01-04T07:02:35.399844Z",
     "start_time": "2024-01-04T07:02:35.389815Z"
    },
    "code_folding": [
     0
    ]
   },
   "outputs": [],
   "source": [
    "def coin_df(trade_df,coin):\n",
    "    dt = trade_df[(trade_df['buy_coin'] == coin) | (trade_df['sell_coin'] == coin)]\n",
    "    if dt.empty:\n",
    "        return dt\n",
    "    dt = dt.reset_index().drop(\"index\", axis=1)\n",
    "    dt.loc[dt['buy_coin'] == coin, 'begin'] = dt.loc[dt['buy_coin'] == coin, 'buy_pos_begin']\n",
    "    dt.loc[dt['buy_coin'] == coin, 'end'] = dt.loc[dt['buy_coin'] == coin, 'buy_pos_end']\n",
    "    dt.loc[dt['sell_coin'] == coin, 'begin'] = dt.loc[dt['sell_coin'] == coin, 'sell_pos_begin']\n",
    "    dt.loc[dt['sell_coin'] == coin, 'end'] = dt.loc[dt['sell_coin'] == coin, 'sell_pos_end']\n",
    "    dt.loc[dt['buy_coin'] == coin, 'fp'] = dt.loc[dt['buy_coin'] == coin, 'buy_fp']\n",
    "    dt.loc[dt['sell_coin'] == coin, 'fp'] = dt.loc[dt['sell_coin'] == coin, 'sell_fp']\n",
    "    dt['index'] = dt['begin'] * dt['end']\n",
    "    dt1 = dt.sort_values('time')\n",
    "    begin = dt1[dt1['index'] <= 0]['time'].values[0]\n",
    "    dt1 = dt.sort_values('time',ascending = False)\n",
    "    end = dt1[dt1['index'] <= 0]['time'].values[0]\n",
    "    dt = dt[dt['time'] >= begin][dt['time'] <= end].reset_index()\n",
    "    return dt.iloc[:,1:]"
   ]
  },
  {
   "cell_type": "code",
   "execution_count": 13,
   "id": "027f3e80",
   "metadata": {
    "ExecuteTime": {
     "end_time": "2023-12-28T07:22:01.757566Z",
     "start_time": "2023-12-28T07:22:01.738718Z"
    },
    "code_folding": [
     1
    ]
   },
   "outputs": [],
   "source": [
    "# 先进先出\n",
    "def get_pos1_0(dt,balance,coin,fp):\n",
    "    dt['begin'] = dt['begin'] / balance + 1\n",
    "    dt['end'] = dt['end'] / balance + 1\n",
    "    arr = dt.to_numpy()\n",
    "    begin = 0\n",
    "    buy_list=[]\n",
    "    sell_list=[]\n",
    "    records = np.empty((len(arr)*2, 14), dtype=object)\n",
    "    k = 0\n",
    "    for i in list(dt.index):\n",
    "        row = arr[i]\n",
    "    \n",
    "        #仓位平衡时开始计算\n",
    "        if (row[15]-1)*(row[16]-1) > 0 and begin == 0:\n",
    "            continue\n",
    "    \n",
    "        #入栈\n",
    "        if (row[15]-1)*(row[16]-1) < 0:\n",
    "            if row[1] == coin:\n",
    "                amount_plus = (row[16]-1)/(row[16]-row[15])*row[2]\n",
    "                if begin == 1:\n",
    "                    amount_plus = row[2]\n",
    "                arr[i][15] = 1\n",
    "                buy_list.append([i,amount_plus])\n",
    "            else:\n",
    "                amount_plus = (1-row[16])/(row[15]-row[16])*row[7]\n",
    "                if begin ==1 :\n",
    "                    amount_plus = row[7]\n",
    "                arr[i][15] = 1\n",
    "                sell_list.append([i,abs(amount_plus)])\n",
    "            begin = 1\n",
    "        else:\n",
    "            if row[1] == coin:\n",
    "                buy_list.append([i,row[2]])\n",
    "            else:\n",
    "                sell_list.append([i,abs(row[7])])\n",
    "    \n",
    "        #出栈\n",
    "        while buy_list and sell_list:\n",
    "            buy_site = buy_list[0][0]\n",
    "            sell_site = sell_list[0][0]\n",
    "            buy_row = arr[buy_site]\n",
    "            sell_row = arr[sell_site]\n",
    "            amount = min(buy_list[0][1],sell_list[0][1])\n",
    "            buy_amount = amount\n",
    "            sell_amount = amount\n",
    "            if buy_row[12] == 2:\n",
    "                buy_amount = amount / buy_row[14]\n",
    "            if sell_row[13] == 2:\n",
    "                sell_amount = amount / sell_row[14]\n",
    "            if buy_list[0][1] > sell_list[0][1]:\n",
    "                buy_list[0][1] = buy_list[0][1] - sell_list[0][1]\n",
    "                sell_list = sell_list[1:]\n",
    "            elif buy_list[0][1] < sell_list[0][1]:\n",
    "                sell_list[0][1] = sell_list[0][1] - buy_list[0][1]\n",
    "                buy_list = buy_list[1:]\n",
    "            else:\n",
    "                sell_list = sell_list[1:]\n",
    "                buy_list = buy_list[1:]\n",
    "            if buy_row[0] > sell_row[0]:\n",
    "                pos_high = min(sell_row[15],buy_row[16])\n",
    "                pos_low = pos_high - amount/balance\n",
    "                open_profit = abs(sell_amount) * sell_row[11] \n",
    "                close_profit = abs(buy_amount) * buy_row[11] \n",
    "                amount = -1*amount\n",
    "                open_coin,open_time,open_margin,close_coin,close_time,close_margin = sell_row[1],sell_row[0],sell_row[11],buy_row[6],buy_row[0],buy_row[11]\n",
    "            else:\n",
    "                pos_low = max(sell_row[16],buy_row[15])\n",
    "                pos_high = pos_low + amount/balance\n",
    "                open_profit = abs(buy_amount) * buy_row[11]\n",
    "                close_profit = abs(sell_amount) * sell_row[11]\n",
    "                open_coin,open_time,open_margin,close_coin,close_time,close_margin = buy_row[6],buy_row[0],buy_row[11],sell_row[1],sell_row[0],sell_row[11]\n",
    "            \n",
    "            fp_diff_profit = abs(amount) * (sell_row[17] - buy_row[17])\n",
    "            fp_diff = sell_row[17] - buy_row[17]\n",
    "            dv = amount * (sell_row[17] + buy_row[17]) / 2\n",
    "            record = np.array([coin,dv,pos_low,pos_high,\n",
    "                               open_coin,open_time,open_margin,open_profit,\n",
    "                               close_coin,close_time,close_margin,close_profit,\n",
    "                               fp_diff,fp_diff_profit])\n",
    "            records[k] = record\n",
    "            k = k+1\n",
    "                \n",
    "    columns = ['asset', 'dallor_value', 'pos_low','pos_high',\n",
    "               'open_coin', 'open_time','open_margin','open_profit',\n",
    "               'close_coin', 'close_time','close_margin','close_profit',\n",
    "               'fp_diff','fp_diff_profit']\n",
    "    records_df = pd.DataFrame(records, columns=columns)\n",
    "    return records_df.sort_values(['open_time', 'close_time'],ascending = [True, False])"
   ]
  },
  {
   "cell_type": "code",
   "execution_count": 14,
   "id": "ea2bf88d",
   "metadata": {
    "ExecuteTime": {
     "end_time": "2023-12-28T07:22:02.201867Z",
     "start_time": "2023-12-28T07:22:02.187842Z"
    },
    "code_folding": [
     1
    ]
   },
   "outputs": [],
   "source": [
    "# 先进后出\n",
    "def get_pos1(dt,balance,coin,fp):\n",
    "    dt['begin'] = dt['begin'] / balance + 1\n",
    "    dt['end'] = dt['end'] / balance + 1\n",
    "    arr = dt.to_numpy()\n",
    "    end = dt[-1:].values[0][0]\n",
    "    rp1 = fp[fp['time']<=end]\n",
    "    rp = rp1[-1:]\n",
    "    rp['usd'] = 1\n",
    "    begin = 0\n",
    "    buy_list=[]\n",
    "    sell_list=[]\n",
    "    records = np.empty((len(arr)*2, 14), dtype=object)\n",
    "    k = 0\n",
    "    for i in list(dt.index):\n",
    "        row = arr[i]\n",
    "    \n",
    "        #仓位平衡时开始计算\n",
    "        if (row[15]-1)*(row[16]-1) > 0 and begin == 0:\n",
    "            continue\n",
    "    \n",
    "        #入栈\n",
    "        if (row[15]-1)*(row[16]-1) < 0:\n",
    "            if row[1] == coin:\n",
    "                amount_plus = (row[16]-1)/(row[16]-row[15])*row[2]\n",
    "                if begin == 1:\n",
    "                    amount_plus = row[2]\n",
    "                arr[i][15] = 1\n",
    "                buy_list.append([i,amount_plus])\n",
    "            else:\n",
    "                amount_plus = (1-row[16])/(row[15]-row[16])*row[7]\n",
    "                if begin ==1 :\n",
    "                    amount_plus = row[7]\n",
    "                arr[i][15] = 1\n",
    "                sell_list.append([i,abs(amount_plus)])\n",
    "            begin = 1\n",
    "        else:\n",
    "            if row[1] == coin:\n",
    "                buy_list.append([i,row[2]])\n",
    "            else:\n",
    "                sell_list.append([i,abs(row[7])])\n",
    "    \n",
    "        #出栈\n",
    "        while buy_list and sell_list:\n",
    "            buy_site = buy_list[-1][0]\n",
    "            sell_site = sell_list[-1][0]\n",
    "            buy_row = arr[buy_site]\n",
    "            sell_row = arr[sell_site]\n",
    "            amount = min(buy_list[-1][1],sell_list[-1][1])\n",
    "            buy_amount = amount\n",
    "            sell_amount = amount\n",
    "            if buy_row[12] == 2:\n",
    "                buy_amount = amount / buy_row[14]\n",
    "            if sell_row[13] == 2:\n",
    "                sell_amount = amount / sell_row[14]\n",
    "            if buy_list[-1][1]>sell_list[-1][1]:\n",
    "                buy_list[-1][1] = buy_list[-1][1] - sell_list[-1][1]\n",
    "                sell_list = sell_list[:-1]\n",
    "            elif buy_list[-1][1]<sell_list[-1][1]:\n",
    "                sell_list[-1][1] = sell_list[-1][1] - buy_list[-1][1]\n",
    "                buy_list = buy_list[:-1]\n",
    "            else:\n",
    "                sell_list = sell_list[:-1]\n",
    "                buy_list = buy_list[:-1]\n",
    "            if buy_row[0]>sell_row[0]:\n",
    "                pos_high = min(sell_row[15],buy_row[16])\n",
    "                pos_low = pos_high - amount/balance\n",
    "                open_profit = abs(sell_amount) * sell_row[11] \n",
    "                close_profit = abs(buy_amount) * buy_row[11] \n",
    "                amount = -1*amount\n",
    "                open_coin,open_time,open_margin,close_coin,close_time,close_margin = sell_row[1],sell_row[0],sell_row[11],buy_row[6],buy_row[0],buy_row[11]\n",
    "            else:\n",
    "                pos_low = max(sell_row[16],buy_row[15])\n",
    "                pos_high = pos_low + amount/balance\n",
    "                open_profit = abs(buy_amount) * buy_row[11]\n",
    "                close_profit = abs(sell_amount) * sell_row[11]\n",
    "                open_coin,open_time,open_margin,close_coin,close_time,close_margin = buy_row[6],buy_row[0],buy_row[11],sell_row[1],sell_row[0],sell_row[11]\n",
    "            \n",
    "            fp_diff_profit = abs(amount) * (sell_row[8] - buy_row[3])\n",
    "            fp_diff = sell_row[8] - buy_row[3]\n",
    "            dv = amount * (sell_row[8] + buy_row[3]) / 2\n",
    "            record = np.array([coin,dv,pos_low,pos_high,\n",
    "                               open_coin,open_time,open_margin,open_profit,\n",
    "                               close_coin,close_time,close_margin,close_profit,\n",
    "                               fp_diff,fp_diff_profit])\n",
    "            records[k] = record\n",
    "            k = k+1\n",
    "                \n",
    "    columns = ['asset', 'dallor_value', 'pos_low','pos_high',\n",
    "               'open_coin', 'open_time','open_margin','open_profit',\n",
    "               'close_coin', 'close_time','close_margin','close_profit',\n",
    "               'fp_diff','fp_diff_profit']\n",
    "    records_df = pd.DataFrame(records, columns=columns)\n",
    "    return records_df.dropna(axis=0,how='all').sort_values(['open_time', 'close_time'],ascending = [True, False])"
   ]
  },
  {
   "cell_type": "code",
   "execution_count": 15,
   "id": "20059fb4",
   "metadata": {
    "ExecuteTime": {
     "end_time": "2023-12-28T07:22:02.501768Z",
     "start_time": "2023-12-28T07:22:02.484722Z"
    },
    "code_folding": [
     0
    ]
   },
   "outputs": [],
   "source": [
    "def partern_con(ex, part, begin, num, way, trade_ls, fp_ls):\n",
    "    for file in ['仓位变动', way]:\n",
    "        path = f'C:/Users/杜威/Desktop/tardis/profit/{file}/{ex}/{num}'\n",
    "        if not os.path.exists(path):\n",
    "            os.mkdir(path)\n",
    "    func = func_dic[way]\n",
    "    trade = get_trade(ex, trade_ls)\n",
    "    fp = get_fp(fp_num)\n",
    "    trade = trade[(trade['time'] >= time_list[part][0]) & (trade['time'] <= time_list[part][1])]\n",
    "    df = pd.merge(trade, fp, on = 'time', how = 'left').ffill()\n",
    "    pos_begin = read_dic(f'{ex}_begin')\n",
    "    trade = into_trade(df, balance_map[part][ex], pos_begin[part], time_ls[part])\n",
    "    trade = trade[trade['time'] >= begin]\n",
    "    trade = trade.dropna()\n",
    "    for coin in balance_map[part]['kraken_formal']:\n",
    "        df = coin_df(trade,coin)\n",
    "        if df.empty:\n",
    "            print(f'{coin} is error!')\n",
    "            continue\n",
    "        dt = df[:]\n",
    "        dt['asset'] = coin\n",
    "        dt['pos'] = dt['begin']\n",
    "        dt = dt[['asset','time','pos','fp']]\n",
    "        dt.to_csv(f'C:/Users/杜威/Desktop/tardis/profit/仓位变动/{ex}/{num}/{coin}.csv')\n",
    "        df_pos = func(df,balance_map[part]['kraken_formal'][coin],coin,fp)\n",
    "        df_pos.to_csv(f'C:/Users/杜威/Desktop/tardis/profit/{way}/{ex}/{num}/{coin}.csv')"
   ]
  },
  {
   "cell_type": "code",
   "execution_count": 72,
   "id": "9504650d",
   "metadata": {
    "ExecuteTime": {
     "end_time": "2023-12-17T13:59:05.028020Z",
     "start_time": "2023-12-17T13:58:41.180835Z"
    },
    "code_folding": [
     0,
     4
    ]
   },
   "outputs": [
    {
     "name": "stdout",
     "output_type": "stream",
     "text": [
      "dai is error!\n"
     ]
    }
   ],
   "source": [
    "func_dic = {\n",
    "    '先进先出':get_pos1_0,\n",
    "    '先进后出':get_pos1\n",
    "}\n",
    "for ex in ['kraken_formal','kraken_test'][:1]:\n",
    "    for time_part in ['7']:\n",
    "        file_num = int(time_part) + 2\n",
    "        partern_con(ex, time_part, '2023-11-15', file_num, '先进先出', [8], [8])"
   ]
  },
  {
   "cell_type": "markdown",
   "id": "10bb1e80",
   "metadata": {},
   "source": [
    "##  币种统计"
   ]
  },
  {
   "cell_type": "code",
   "execution_count": 6,
   "id": "4f34c3b1",
   "metadata": {
    "ExecuteTime": {
     "end_time": "2023-12-17T14:07:01.266892Z",
     "start_time": "2023-12-17T14:07:01.256007Z"
    },
    "code_folding": [
     0
    ]
   },
   "outputs": [],
   "source": [
    "def get_pos2(ex, part, coin, way):\n",
    "    asset_num = pri_map[coin]\n",
    "    df = pd.read_csv(f'C:/Users/杜威/Desktop/tardis/profit/{way}/{ex}/{part}/{coin}.csv').dropna()\n",
    "    df['open_time'] = pd.to_datetime(df['open_time'])\n",
    "    df['close_time'] = pd.to_datetime(df['close_time'])\n",
    "\n",
    "    df['open_pos'] = df[['pos_low','pos_high']].mean(axis=1)\n",
    "    df['time_diff'] = df['close_time'] - df['open_time']\n",
    "    df['time_diff'] = df['time_diff'].map(lambda x:x.total_seconds())\n",
    "    df['hold_time'] = abs(df['dallor_value']) * df['time_diff']\n",
    "    ch_fun = lambda x:1 if asset_num < pri_map[x] else 0\n",
    "    df['open_num'] = df['open_coin'].map(ch_fun)\n",
    "    df['close_num'] = df['close_coin'].map(ch_fun)\n",
    "    df['margin_profit'] = df['open_profit'] * df['open_num'] + df['close_profit'] * df['close_num'] \n",
    "    df['dallor_value2'] = (df['open_num'] + df['close_num']) * df['dallor_value']\n",
    "    df = df[['fp_diff','dallor_value2','open_coin','close_coin','open_pos','time_diff','margin_profit','fp_diff_profit','hold_time','dallor_value']]\n",
    "    return df"
   ]
  },
  {
   "cell_type": "code",
   "execution_count": 24,
   "id": "8b5a6d4f",
   "metadata": {
    "ExecuteTime": {
     "end_time": "2023-12-20T02:49:08.495275Z",
     "start_time": "2023-12-20T02:49:08.491354Z"
    },
    "code_folding": [
     0
    ]
   },
   "outputs": [],
   "source": [
    "def pri_map():\n",
    "    priority = ['ltc','xrp','ada','xdg','link','matic','sol', 'dot' ,'eth', 'btc','paxg' ,'aud', 'cad', 'chf', 'gbp', 'eur' ,'dai', 'usdt', 'usdc', 'usd']\n",
    "    pri_map = {}\n",
    "    num = 0\n",
    "    for coin in priority:\n",
    "        pri_map[coin] = num\n",
    "        num += 1\n",
    "    return pri_map\n",
    "pri_map = pri_map()"
   ]
  },
  {
   "cell_type": "code",
   "execution_count": 8,
   "id": "d643306d",
   "metadata": {
    "ExecuteTime": {
     "end_time": "2023-12-17T14:07:03.884806Z",
     "start_time": "2023-12-17T14:07:03.876607Z"
    },
    "code_folding": [
     0
    ]
   },
   "outputs": [],
   "source": [
    "def get_coin1(ex, part, way):\n",
    "    import datetime\n",
    "    gettime = lambda x:datetime.timedelta(seconds = x)\n",
    "    records = np.empty((20, 7), dtype=object)\n",
    "    profit_all = 0\n",
    "    rp_map = {}\n",
    "    margin_all = 0\n",
    "    rp_profit_all = 0\n",
    "    hold_time_all = 0\n",
    "    dv_all = 0\n",
    "    k = 0\n",
    "    ls = os.listdir(f'C:/Users/杜威/Desktop/tardis/profit/{way}/{ex}/{part}')\n",
    "    for coin in priority:\n",
    "        if f'{coin}.csv' not in ls:\n",
    "            continue\n",
    "        coin1 = get_pos2(ex, part, coin, way).dropna()\n",
    "        margin_profit = np.sum(coin1['margin_profit'])\n",
    "        rp_profit = np.sum(coin1['fp_diff_profit'])\n",
    "        hold_time = np.sum(coin1['hold_time'])\n",
    "        dv = np.sum(abs(coin1['dallor_value']))\n",
    "        dv2 = np.sum(abs(coin1['dallor_value2']))\n",
    "        hold_time_mean = hold_time / dv\n",
    "        margin = margin_profit / dv2\n",
    "        profit = rp_profit + margin_profit\n",
    "        profit_all += profit\n",
    "        margin_all += margin_profit\n",
    "        rp_profit_all += rp_profit\n",
    "        hold_time_all += hold_time\n",
    "        dv_all += dv2\n",
    "        record = np.array([coin,int(profit),int(margin_profit),int(rp_profit),gettime(hold_time_mean),dv2,margin])\n",
    "        records[k] = record\n",
    "        k += 1\n",
    "    hold_time_mean = hold_time_all / dv_all\n",
    "    margin = margin_all / dv_all\n",
    "    record = np.array(['all',int(profit_all),int(margin_all),int(rp_profit_all),gettime(hold_time_mean),dv_all,margin])\n",
    "    records[k] = record\n",
    "    columns = ['asset','profit_all','margin_profit','rp_diff_profit','hold_time','dallor_value','margin_rate']\n",
    "    records_df = pd.DataFrame(records, columns=columns)\n",
    "    records_df.dropna().to_csv(f'C:/Users/杜威/Desktop/tardis/profit/fp统计/币种/{ex}_{part}_{way}.csv')"
   ]
  },
  {
   "cell_type": "code",
   "execution_count": 76,
   "id": "35e17199",
   "metadata": {
    "ExecuteTime": {
     "end_time": "2023-12-17T14:00:40.396725Z",
     "start_time": "2023-12-17T14:00:34.073167Z"
    }
   },
   "outputs": [],
   "source": [
    "for ex in ['kraken_formal','kraken_test'][:1]:\n",
    "    for part in ['9']:\n",
    "        get_coin1(ex, part,'先进先出')"
   ]
  },
  {
   "cell_type": "markdown",
   "id": "aa7f9e74",
   "metadata": {},
   "source": [
    "## 持仓时间统计"
   ]
  },
  {
   "cell_type": "code",
   "execution_count": 9,
   "id": "8af19e26",
   "metadata": {
    "ExecuteTime": {
     "end_time": "2023-12-17T14:07:05.454393Z",
     "start_time": "2023-12-17T14:07:05.447358Z"
    },
    "code_folding": [
     0
    ]
   },
   "outputs": [],
   "source": [
    "def time_pos(way, ex, part, coin):\n",
    "    df = pd.read_csv(f'C:/Users/杜威/Desktop/tardis/profit/{way}/{ex}/{part}/{coin}')\n",
    "    df['open_time'] = pd.to_datetime(df['open_time'])\n",
    "    df['close_time'] = pd.to_datetime(df['close_time'])\n",
    "\n",
    "    df['open_pos'] = df[['pos_low','pos_high']].mean(axis=1)\n",
    "    df['time_diff'] = df['close_time'] - df['open_time']\n",
    "    df['time_diff'] = df['time_diff'].map(lambda x:x.total_seconds())\n",
    "    df['dallor_value'] = abs(df['dallor_value'])\n",
    "    \n",
    "    df = df[['time_diff','dallor_value']]\n",
    "    return df"
   ]
  },
  {
   "cell_type": "code",
   "execution_count": 10,
   "id": "63170842",
   "metadata": {
    "ExecuteTime": {
     "end_time": "2023-12-17T14:07:08.009797Z",
     "start_time": "2023-12-17T14:07:08.002107Z"
    },
    "code_folding": [
     0
    ]
   },
   "outputs": [],
   "source": [
    "def weighted_quantile(df, value_col, weight_col, quantiles):\n",
    "    sorted_df = df.sort_values(by=value_col)\n",
    "    sorted_df['cumulative_weight'] = sorted_df[weight_col].cumsum()\n",
    "    total_weight = sorted_df[weight_col].sum()\n",
    "\n",
    "    quantile_results = []\n",
    "    for quantile in quantiles:\n",
    "        target_weight = quantile * total_weight\n",
    "        result = np.interp(target_weight, sorted_df['cumulative_weight'], sorted_df[value_col])\n",
    "        quantile_results.append(result)\n",
    "    sorted_df.drop(columns=['cumulative_weight'], inplace=True)\n",
    "    \n",
    "    import datetime\n",
    "    gettime = lambda x:datetime.timedelta(seconds = x)\n",
    "\n",
    "    return pd.Series(quantile_results, index=quantiles).map(gettime)"
   ]
  },
  {
   "cell_type": "code",
   "execution_count": 11,
   "id": "3596b8d5",
   "metadata": {
    "ExecuteTime": {
     "end_time": "2023-12-17T14:07:10.808326Z",
     "start_time": "2023-12-17T14:07:10.801509Z"
    },
    "code_folding": [
     0
    ]
   },
   "outputs": [],
   "source": [
    "def get_percent_time(ex, way, part):\n",
    "    df_ls = []\n",
    "    name_ls = []\n",
    "    for coin in os.listdir(f'C:/Users/杜威/Desktop/tardis/profit/{way}/{ex}/{part}'):\n",
    "        coin1 = time_pos(way, ex, part, coin).dropna()\n",
    "        t1 = weighted_quantile(coin1,'time_diff','dallor_value',np.arange(0,1.05,0.05))\n",
    "        df_ls.append(t1)\n",
    "        name_ls.append(coin[:-4])\n",
    "    dt = pd.concat(df_ls,axis = 1,keys = name_ls)\n",
    "    dt.to_csv(f'C:/Users/杜威/Desktop/tardis/profit/fp统计/持仓统计/{ex}_{way}_{part}.csv')\n",
    "    return dt"
   ]
  },
  {
   "cell_type": "code",
   "execution_count": 13,
   "id": "11f6f82b",
   "metadata": {
    "ExecuteTime": {
     "end_time": "2023-12-17T14:08:13.238465Z",
     "start_time": "2023-12-17T14:08:05.508648Z"
    },
    "code_folding": []
   },
   "outputs": [],
   "source": [
    "for ex in ['kraken_formal','kraken_test'][:1]:\n",
    "    for part in ['9']:\n",
    "        get_percent_time(ex, '先进先出', part)"
   ]
  },
  {
   "cell_type": "markdown",
   "id": "3469f6f2",
   "metadata": {},
   "source": [
    "## 币对统计"
   ]
  },
  {
   "cell_type": "code",
   "execution_count": 60,
   "id": "36feb440",
   "metadata": {
    "code_folding": [
     0
    ]
   },
   "outputs": [],
   "source": [
    "def get_all_coin(ex, part, dt0):\n",
    "    df = []\n",
    "    for file in os.listdir(f'C:/Users/杜威/Desktop/tardis/profit/先进先出/{ex}/{part}'):\n",
    "        dt = pd.read_csv(f'C:/Users/杜威/Desktop/tardis/profit/先进先出/{ex}/{part}/{file}').dropna()\n",
    "        df.append(dt)\n",
    "    df = pd.concat(df)\n",
    "    coin_all = df.iloc[:,1:]\n",
    "    coin_list = list(dt0.groupby('pair',as_index = False).sum()['pair'])\n",
    "    arr2 = coin_all.to_numpy()\n",
    "    coin1 = []\n",
    "    coin2 = []\n",
    "    for i in range(len(arr2)):\n",
    "        if arr2[i][0] + arr2[i][4] in coin_list:\n",
    "            coin1.append(arr2[i][0] + arr2[i][4])\n",
    "        elif arr2[i][4] + arr2[i][0] in coin_list:\n",
    "            coin1.append(arr2[i][4] + arr2[i][0])\n",
    "        else:\n",
    "            print(arr2[i][4] , arr2[i][0])\n",
    "        if arr2[i][0] + arr2[i][8] in coin_list:\n",
    "            coin2.append(arr2[i][0] + arr2[i][8])\n",
    "        elif arr2[i][8] + arr2[i][0] in coin_list:\n",
    "            coin2.append(arr2[i][8] + arr2[i][0])\n",
    "        else:\n",
    "            print(arr2[i][8] , arr2[i][0])\n",
    "    coin_all['coin1'] = coin1\n",
    "    coin_all['coin2'] = coin2\n",
    "    return coin_all"
   ]
  },
  {
   "cell_type": "code",
   "execution_count": 14,
   "id": "f48da896",
   "metadata": {
    "ExecuteTime": {
     "end_time": "2023-12-17T14:10:21.401031Z",
     "start_time": "2023-12-17T14:10:21.395011Z"
    },
    "code_folding": [
     0
    ]
   },
   "outputs": [],
   "source": [
    "def get_merge_fp(ex, part, begin):\n",
    "    trade = get_trade(ex, [8])\n",
    "    fp = get_fp()\n",
    "    trade = trade[(trade['time'] >= begin) & (trade['time'] <= time_ls[part][1]) & (trade['time'] >= time_ls[part][0])]\n",
    "    df = pd.merge(trade, fp, on = 'time', how = 'left')\n",
    "    return df"
   ]
  },
  {
   "cell_type": "code",
   "execution_count": 15,
   "id": "087e52af",
   "metadata": {
    "ExecuteTime": {
     "end_time": "2023-12-17T14:10:23.373288Z",
     "start_time": "2023-12-17T14:10:23.365129Z"
    },
    "code_folding": [
     0
    ]
   },
   "outputs": [],
   "source": [
    "def cal_margin(df):\n",
    "    rows = df.columns\n",
    "    coin_map = {}\n",
    "    p = 0\n",
    "    for t in rows:\n",
    "        coin_map[t] = p\n",
    "        p += 1\n",
    "    data = df.values\n",
    "\n",
    "    for i in range(len(data)):\n",
    "        if data[i][1][-4:] in ['usdt','usdc']:\n",
    "            coin1,coin2 = data[i][1][:-4],data[i][1][-4:]\n",
    "        else:\n",
    "            coin1,coin2 = data[i][1][:-3],data[i][1][-3:]\n",
    "        fair_price = data[i][coin_map[coin1]] / data[i][coin_map[coin2]]\n",
    "        if data[i][2] == 'buy':\n",
    "            data[i][3] = 1 - data[i][3] / fair_price\n",
    "        elif data[i][2] == 'sell':\n",
    "            data[i][3] = data[i][3] / fair_price - 1\n",
    "        data[i][5] = data[i][4] * data[i][coin_map[coin1]]\n",
    "        data[i][4] = data[i][5] * data[i][3]\n",
    "    \n",
    "    df = pd.DataFrame(data, columns=rows)\n",
    "    df.rename(columns={'price': 'margin', 'amount': 'profit','value':'dallor_value'}, inplace=True)\n",
    "    return df[['pair','dallor_value','margin','profit']]"
   ]
  },
  {
   "cell_type": "code",
   "execution_count": 16,
   "id": "0a480769",
   "metadata": {
    "ExecuteTime": {
     "end_time": "2023-12-17T14:10:23.880212Z",
     "start_time": "2023-12-17T14:10:23.875324Z"
    },
    "code_folding": [
     0
    ]
   },
   "outputs": [],
   "source": [
    "def ch_coin_all(df,dt):\n",
    "    df['dallor_value'] = abs(df['dallor_value'])\n",
    "    df = df[['coin1','fp_diff_profit']].groupby('coin1',as_index = False).sum()\n",
    "    df.rename(columns = {'coin1':'pair'}, inplace=True)\n",
    "    dt = dt.groupby('pair',as_index = False).sum()\n",
    "    dt.rename(columns = {'profit':'margin_profit'}, inplace=True)\n",
    "    df = pd.merge(dt,df,on = 'pair',how = 'outer')\n",
    "    df['margin_rate'] = df['margin_profit'] / df['dallor_value']\n",
    "    df['profit_all'] = df['margin_profit'] + df['fp_diff_profit']\n",
    "    profit = df['profit_all'].sum()\n",
    "    margin = df['margin_profit'].sum()\n",
    "    fp_diff = df['fp_diff_profit'].sum()\n",
    "    amount = df['dallor_value'].sum()\n",
    "    rate = margin/amount\n",
    "    all_ = np.array(['all',profit,margin,fp_diff,amount,rate])\n",
    "    df = df[['pair','profit_all','margin_profit','fp_diff_profit','dallor_value','margin_rate']]\n",
    "    df.loc[-1] = all_  # adding a row\n",
    "    df.index = df.index + 1  # shifting index\n",
    "    df = df.sort_index() \n",
    "    return df[['pair','profit_all','margin_profit','fp_diff_profit','dallor_value','margin_rate']]"
   ]
  },
  {
   "cell_type": "code",
   "execution_count": 17,
   "id": "1b384839",
   "metadata": {
    "ExecuteTime": {
     "end_time": "2023-12-17T14:10:24.569727Z",
     "start_time": "2023-12-17T14:10:24.554165Z"
    },
    "code_folding": [
     0
    ]
   },
   "outputs": [],
   "source": [
    "def get_doubcoin(ex, coin_part, time_part, begin):\n",
    "    df = get_merge_fp(ex, time_part, begin)\n",
    "    coin_all = get_all_coin(ex, coin_part, df)\n",
    "    dt = cal_margin(df)\n",
    "    coin3_all = ch_coin_all(coin_all,dt)\n",
    "    coin3_all.iloc[:,1:5] = coin3_all.iloc[:,1:5].applymap(lambda x: round(float(x),2) )\n",
    "    coin3_all.to_csv(f'C:/Users/杜威/Desktop/tardis/profit/fp统计/币对/{ex}_{coin_part}.csv')"
   ]
  },
  {
   "cell_type": "code",
   "execution_count": 45,
   "id": "c752723e",
   "metadata": {
    "ExecuteTime": {
     "end_time": "2023-12-25T08:13:19.746143Z",
     "start_time": "2023-12-25T08:13:19.733683Z"
    },
    "code_folding": []
   },
   "outputs": [
    {
     "ename": "NameError",
     "evalue": "name 'get_doubcoin' is not defined",
     "output_type": "error",
     "traceback": [
      "\u001b[1;31m---------------------------------------------------------------------------\u001b[0m",
      "\u001b[1;31mNameError\u001b[0m                                 Traceback (most recent call last)",
      "\u001b[1;32m~\\AppData\\Local\\Temp/ipykernel_21420/216553491.py\u001b[0m in \u001b[0;36m<module>\u001b[1;34m\u001b[0m\n\u001b[0;32m      1\u001b[0m \u001b[1;32mfor\u001b[0m \u001b[0mex\u001b[0m \u001b[1;32min\u001b[0m \u001b[1;33m[\u001b[0m\u001b[1;34m'kraken_formal'\u001b[0m\u001b[1;33m,\u001b[0m\u001b[1;34m'kraken_test'\u001b[0m\u001b[1;33m]\u001b[0m\u001b[1;33m[\u001b[0m\u001b[1;33m:\u001b[0m\u001b[1;36m1\u001b[0m\u001b[1;33m]\u001b[0m\u001b[1;33m:\u001b[0m\u001b[1;33m\u001b[0m\u001b[1;33m\u001b[0m\u001b[0m\n\u001b[1;32m----> 2\u001b[1;33m     \u001b[0mget_doubcoin\u001b[0m\u001b[1;33m(\u001b[0m\u001b[0mex\u001b[0m\u001b[1;33m,\u001b[0m \u001b[1;34m'9'\u001b[0m\u001b[1;33m,\u001b[0m \u001b[1;34m'7'\u001b[0m\u001b[1;33m,\u001b[0m \u001b[1;34m'2023-11-15'\u001b[0m\u001b[1;33m)\u001b[0m\u001b[1;33m\u001b[0m\u001b[1;33m\u001b[0m\u001b[0m\n\u001b[0m",
      "\u001b[1;31mNameError\u001b[0m: name 'get_doubcoin' is not defined"
     ]
    }
   ],
   "source": [
    "for ex in ['kraken_formal','kraken_test'][:1]:\n",
    "    get_doubcoin(ex, '9', '7', '2023-11-15')"
   ]
  },
  {
   "cell_type": "markdown",
   "id": "b5100174",
   "metadata": {},
   "source": [
    "# 价差分析呈现"
   ]
  },
  {
   "cell_type": "code",
   "execution_count": 77,
   "id": "2cb3fd03",
   "metadata": {
    "ExecuteTime": {
     "end_time": "2024-02-27T11:17:44.829236Z",
     "start_time": "2024-02-27T11:17:44.820788Z"
    }
   },
   "outputs": [],
   "source": [
    "df = pd.read_csv(r'C:\\Users\\杜威\\Desktop\\20231101-20231106.csv', index_col = 0)\n",
    "df['online'] = df[df.columns[2]]"
   ]
  },
  {
   "cell_type": "code",
   "execution_count": 78,
   "id": "3b71d680",
   "metadata": {
    "ExecuteTime": {
     "end_time": "2024-02-27T11:17:45.025843Z",
     "start_time": "2024-02-27T11:17:44.992094Z"
    }
   },
   "outputs": [],
   "source": [
    "for col in df.columns[1:]:\n",
    "    df[col] = df[col] - df['online']"
   ]
  },
  {
   "cell_type": "code",
   "execution_count": 80,
   "id": "16564421",
   "metadata": {
    "ExecuteTime": {
     "end_time": "2024-02-27T11:17:47.523636Z",
     "start_time": "2024-02-27T11:17:47.516005Z"
    },
    "code_folding": [
     0
    ]
   },
   "outputs": [],
   "source": [
    "def transfer(date):\n",
    "    now = datetime.now()  \n",
    "    try:\n",
    "        date_time_obj = datetime.combine(now.date(), datetime.strptime(date, \"%H:%M:%S\").time())  \n",
    "        return date_time_obj \n",
    "    except:\n",
    "        date_time_obj = datetime.combine(now.date(), datetime.strptime(date, \"%H:%M:%S.%f\").time())  \n",
    "        return date_time_obj "
   ]
  },
  {
   "cell_type": "code",
   "execution_count": 87,
   "id": "6f964044",
   "metadata": {
    "ExecuteTime": {
     "end_time": "2024-02-27T11:22:27.464581Z",
     "start_time": "2024-02-27T11:22:27.226788Z"
    }
   },
   "outputs": [
    {
     "data": {
      "text/plain": [
       "'kraken_timediff.html'"
      ]
     },
     "execution_count": 87,
     "metadata": {},
     "output_type": "execute_result"
    }
   ],
   "source": [
    "    layout = go.Layout(\n",
    "        title='kraken time_diff',\n",
    "        xaxis=dict(title='time'),\n",
    "        yaxis=dict(title='dollar')\n",
    "        )\n",
    "    fig = go.Figure(layout=layout)\n",
    "    for coin in df['asset']:\n",
    "        fig.add_trace(\n",
    "            go.Scatter(\n",
    "                x=[transfer(i) for i in df.columns[1:-11]],\n",
    "                y=df.loc[df['asset'] == coin, :].values[0][1:-11],\n",
    "                mode='lines',\n",
    "                name=coin\n",
    "            )\n",
    "        )\n",
    "    fig.add_trace(\n",
    "            go.Scatter(\n",
    "                x=[transfer(i) for i in df.columns[1:-11]],\n",
    "                y=df.sum()[1:-11],\n",
    "                mode='lines',\n",
    "                name='all'\n",
    "            )\n",
    "        )\n",
    "    path = f'C:/Users/杜威/Desktop/tardis/profit/plot/fig'\n",
    "    os.chdir(path)\n",
    "    plotly.offline.plot(fig, filename=f'kraken_timediff.html', auto_open=False)"
   ]
  }
 ],
 "metadata": {
  "kernelspec": {
   "display_name": "Python 3 (ipykernel)",
   "language": "python",
   "name": "python3"
  },
  "language_info": {
   "codemirror_mode": {
    "name": "ipython",
    "version": 3
   },
   "file_extension": ".py",
   "mimetype": "text/x-python",
   "name": "python",
   "nbconvert_exporter": "python",
   "pygments_lexer": "ipython3",
   "version": "3.9.7"
  }
 },
 "nbformat": 4,
 "nbformat_minor": 5
}
